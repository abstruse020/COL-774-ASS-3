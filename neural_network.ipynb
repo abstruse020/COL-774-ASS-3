{
 "cells": [
  {
   "cell_type": "code",
   "execution_count": 1,
   "id": "87237e43-970a-4312-944a-a0f7a926d63d",
   "metadata": {},
   "outputs": [],
   "source": [
    "import pandas as pd\n",
    "import numpy as np\n",
    "import sys\n",
    "import math\n"
   ]
  },
  {
   "cell_type": "code",
   "execution_count": null,
   "id": "43370f2e-6120-4c1d-9d21-eaa5aa9b9fc5",
   "metadata": {},
   "outputs": [],
   "source": []
  },
  {
   "cell_type": "code",
   "execution_count": null,
   "id": "efa6ed9c-7d74-40a7-b624-b6fea111b3a9",
   "metadata": {},
   "outputs": [],
   "source": []
  },
  {
   "cell_type": "code",
   "execution_count": null,
   "id": "42987931-45a8-4c74-a51b-d8c9e4fd4eb5",
   "metadata": {},
   "outputs": [],
   "source": []
  },
  {
   "cell_type": "code",
   "execution_count": 2,
   "id": "c053e345-49df-4140-ab81-f3f3749e96a3",
   "metadata": {},
   "outputs": [],
   "source": [
    "class FF_MultiClass_InputWeightVectorised:\n",
    "  \n",
    "  def __init__(self, W1, W2):\n",
    "    self.W1 = W1.copy()\n",
    "    self.W2 = W2.copy()\n",
    "    self.B1 = np.zeros((1,2))\n",
    "    self.B2 = np.zeros((1,4))\n",
    "  \n",
    "  def sigmoid(self, X):\n",
    "    return 1.0/(1.0 + np.exp(-X))\n",
    "  \n",
    "  def softmax(self, X):\n",
    "    exps = np.exp(X)\n",
    "    return exps / np.sum(exps, axis=1).reshape(-1,1)\n",
    "  \n",
    "  def forward_pass(self, X):\n",
    "    self.A1 = np.matmul(X,self.W1) + self.B1 # (N, 2) * (2, 2) -> (N, 2)\n",
    "    self.H1 = self.sigmoid(self.A1) # (N, 2)\n",
    "    self.A2 = np.matmul(self.H1, self.W2) + self.B2 # (N, 2) * (2, 4) -> (N, 4)\n",
    "    self.H2 = self.softmax(self.A2) # (N, 4)\n",
    "    return self.H2\n",
    "    \n",
    "  def grad_sigmoid(self, X):\n",
    "    return X*(1-X) \n",
    "  \n",
    "  def grad(self, X, Y):\n",
    "    self.forward_pass(X)\n",
    "    m = X.shape[0]\n",
    "    \n",
    "    self.dA2 = self.H2 - Y # (N, 4) - (N, 4) -> (N, 4)\n",
    "    \n",
    "    self.dW2 = np.matmul(self.H1.T, self.dA2) # (2, N) * (N, 4) -> (2, 4)\n",
    "    self.dB2 = np.sum(self.dA2, axis=0).reshape(1, -1) # (N, 4) -> (1, 4)\n",
    "    self.dH1 = np.matmul(self.dA2, self.W2.T) # (N, 4) * (4, 2) -> (N, 2)\n",
    "    self.dA1 = np.multiply(self.dH1, self.grad_sigmoid(self.H1)) # (N, 2) .* (N, 2) -> (N, 2)\n",
    "    \n",
    "    self.dW1 = np.matmul(X.T, self.dA1) # (2, N) * (N, 2) -> (2, 2)\n",
    "    self.dB1 = np.sum(self.dA1, axis=0).reshape(1, -1) # (N, 2) -> (1, 2)\n",
    "\n",
    "      \n",
    "  def fit(self, X, Y, epochs=1, learning_rate=1, display_loss=False):\n",
    "      \n",
    "    if display_loss:\n",
    "      loss = {}\n",
    "    \n",
    "    for i in tqdm_notebook(range(epochs), total=epochs, unit=\"epoch\"):\n",
    "      self.grad(X, Y) # X -> (N, 2), Y -> (N, 4)\n",
    "        \n",
    "      m = X.shape[0]\n",
    "      self.W2 -= learning_rate * (self.dW2/m)\n",
    "      self.B2 -= learning_rate * (self.dB2/m)\n",
    "      self.W1 -= learning_rate * (self.dW1/m)\n",
    "      self.B1 -= learning_rate * (self.dB1/m)\n",
    "\n",
    "      if display_loss:\n",
    "        Y_pred = self.predict(X)\n",
    "        loss[i] = log_loss(np.argmax(Y, axis=1), Y_pred)\n",
    "    \n",
    "    \n",
    "    if display_loss:\n",
    "      plt.plot(loss.values())\n",
    "      plt.xlabel('Epochs')\n",
    "      plt.ylabel('Log Loss')\n",
    "      plt.show()\n",
    "      \n",
    "  \n",
    "  def predict(self, X):\n",
    "    Y_pred = self.forward_pass(X)\n",
    "    return np.array(Y_pred).squeeze()"
   ]
  },
  {
   "cell_type": "code",
   "execution_count": null,
   "id": "5e5a5cfc-cdf2-4501-9a04-466eb15a5adb",
   "metadata": {},
   "outputs": [],
   "source": []
  }
 ],
 "metadata": {
  "kernelspec": {
   "display_name": "Python 3 (ipykernel)",
   "language": "python",
   "name": "python3"
  },
  "language_info": {
   "codemirror_mode": {
    "name": "ipython",
    "version": 3
   },
   "file_extension": ".py",
   "mimetype": "text/x-python",
   "name": "python",
   "nbconvert_exporter": "python",
   "pygments_lexer": "ipython3",
   "version": "3.8.8"
  }
 },
 "nbformat": 4,
 "nbformat_minor": 5
}
