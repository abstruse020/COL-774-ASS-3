{
 "cells": [
  {
   "cell_type": "code",
   "execution_count": 4,
   "id": "8e9b6897-ed48-4994-9d01-45301b1d69c5",
   "metadata": {},
   "outputs": [],
   "source": [
    "import pandas as pd\n",
    "from sklearn.tree import DecisionTreeClassifier\n",
    "from sklearn.ensemble import RandomForestClassifier\n",
    "from sklearn.metrics import accuracy_score\n",
    "import matplotlib.pyplot as plt\n",
    "from sys import argv\n",
    "import numpy as np\n",
    "import math\n",
    "from tqdm import tqdm_notebook\n",
    "import datetime\n",
    "from sys import exit"
   ]
  },
  {
   "cell_type": "code",
   "execution_count": 5,
   "id": "c285b4eb-f476-498a-8fa1-691b9f6c47ad",
   "metadata": {},
   "outputs": [],
   "source": [
    "## Variables --\n",
    "train_path = 'bank_dataset/bank_train.csv'\n",
    "test_path = 'bank_dataset/bank_test.csv'\n",
    "validate_path = 'bank_dataset/bank_val.csv'\n",
    "\n",
    "train_path = argv[1]\n",
    "test_path  = argv[2]\n",
    "validate_path = argv[3]\n",
    "part = argv[4]\n",
    "print('train path', train_path)"
   ]
  },
  {
   "cell_type": "code",
   "execution_count": 6,
   "id": "37a4ca60-e697-4980-bc36-0fd333065616",
   "metadata": {},
   "outputs": [],
   "source": [
    "def read_data(path):\n",
    "    df = pd.read_csv(path, sep=';')\n",
    "    return df"
   ]
  },
  {
   "cell_type": "code",
   "execution_count": 7,
   "id": "17a97669-9772-43d5-bf80-57efb2bd6e23",
   "metadata": {},
   "outputs": [],
   "source": [
    "train_data = read_data(train_path)\n",
    "# train_data.head()"
   ]
  },
  {
   "cell_type": "code",
   "execution_count": 8,
   "id": "52a831aa-0fb9-430a-84ca-5ce7dc8f06a5",
   "metadata": {},
   "outputs": [],
   "source": [
    "# print(train_data.shape)"
   ]
  },
  {
   "cell_type": "code",
   "execution_count": 9,
   "id": "ab57feee-1a65-408f-b303-e04e5df4fbfa",
   "metadata": {
    "tags": []
   },
   "outputs": [],
   "source": [
    "#train_data.plot(subplots = True, figsize = (10,20))"
   ]
  },
  {
   "cell_type": "code",
   "execution_count": 10,
   "id": "c56d88ce-5e20-4def-8fba-3ae056f06043",
   "metadata": {
    "tags": []
   },
   "outputs": [],
   "source": [
    "# for col in train_data.columns:\n",
    "#     if col == 'balance' or col == 'duration':\n",
    "#         continue\n",
    "#     print('For col:',col)\n",
    "#     print(set(train_data[col].values))"
   ]
  },
  {
   "cell_type": "code",
   "execution_count": 11,
   "id": "a9ce05cb-72a4-475a-b654-2281dcab7d95",
   "metadata": {},
   "outputs": [],
   "source": [
    "ohe_columns = {}\n",
    "binary_columns = ['default', 'housing', 'loan']\n",
    "def make_one_hot_encoding(data, cols):\n",
    "    Y = data['y']\n",
    "    data.drop('y', axis = 'columns', inplace = True)\n",
    "    for col in cols:\n",
    "        append_data = pd.get_dummies(data[col])\n",
    "        ohe_columns[col] = append_data.columns\n",
    "        for new_col in append_data.columns:\n",
    "            data[col +'.'+ str(new_col)] = append_data[new_col]\n",
    "        data.drop(col, axis = 'columns', inplace = True)\n",
    "    data['y'] = Y\n",
    "    for b_col in binary_columns:\n",
    "        data[b_col] = data[b_col] == 'yes'\n",
    "    return data\n",
    "\n",
    "def apply_one_hot_encoding(data, cols):\n",
    "    Y = data['y']\n",
    "    data.drop('y', axis = 'columns', inplace = True)\n",
    "    for col in cols:\n",
    "        for new_col in ohe_columns[col]:\n",
    "            data[col + '.' + str(new_col)] = data[col] == new_col\n",
    "        data.drop(col, axis = 'columns', inplace = True)\n",
    "    data['y'] = Y\n",
    "    for b_col in binary_columns:\n",
    "        data[b_col] = data[b_col] == 'yes'\n",
    "    return data\n",
    "        "
   ]
  },
  {
   "cell_type": "code",
   "execution_count": 12,
   "id": "2f9abc6a-afb0-45c5-8be8-67b0412f0e34",
   "metadata": {
    "tags": []
   },
   "outputs": [],
   "source": [
    "# ohe_test_data.head()"
   ]
  },
  {
   "cell_type": "code",
   "execution_count": 13,
   "id": "310134f9-fffd-43b0-9168-0625dfd114c1",
   "metadata": {
    "tags": []
   },
   "outputs": [],
   "source": [
    "# ohe_test_data.loc[ohe_test_data['age'] == 34, 'age']\n",
    "# ohe_test_data['age.35'] = ohe_test_data['age'] == 34"
   ]
  },
  {
   "cell_type": "code",
   "execution_count": 14,
   "id": "f23bc7b1-0796-4531-8476-e42aba32259e",
   "metadata": {
    "tags": []
   },
   "outputs": [],
   "source": [
    "# ohe_test_data"
   ]
  },
  {
   "cell_type": "markdown",
   "id": "6ea8f681-c194-45d3-93ff-4371c6843872",
   "metadata": {
    "tags": []
   },
   "source": [
    "### Main reading starts from here -"
   ]
  },
  {
   "cell_type": "code",
   "execution_count": 15,
   "id": "142ca6ee-aa3d-4c1e-bcb8-c1373a83502c",
   "metadata": {},
   "outputs": [
    {
     "name": "stdout",
     "output_type": "stream",
     "text": [
      "non categorical or biary cols {'default', 'day', 'pdays', 'age', 'previous', 'loan', 'y', 'housing', 'balance', 'duration'}\n",
      "(36168, 17)\n",
      "(36168, 95)\n"
     ]
    },
    {
     "data": {
      "text/html": [
       "<div>\n",
       "<style scoped>\n",
       "    .dataframe tbody tr th:only-of-type {\n",
       "        vertical-align: middle;\n",
       "    }\n",
       "\n",
       "    .dataframe tbody tr th {\n",
       "        vertical-align: top;\n",
       "    }\n",
       "\n",
       "    .dataframe thead th {\n",
       "        text-align: right;\n",
       "    }\n",
       "</style>\n",
       "<table border=\"1\" class=\"dataframe\">\n",
       "  <thead>\n",
       "    <tr style=\"text-align: right;\">\n",
       "      <th></th>\n",
       "      <th>age</th>\n",
       "      <th>default</th>\n",
       "      <th>balance</th>\n",
       "      <th>housing</th>\n",
       "      <th>loan</th>\n",
       "      <th>day</th>\n",
       "      <th>duration</th>\n",
       "      <th>pdays</th>\n",
       "      <th>previous</th>\n",
       "      <th>job.admin.</th>\n",
       "      <th>...</th>\n",
       "      <th>campaign.50</th>\n",
       "      <th>campaign.51</th>\n",
       "      <th>campaign.55</th>\n",
       "      <th>campaign.58</th>\n",
       "      <th>campaign.63</th>\n",
       "      <th>poutcome.failure</th>\n",
       "      <th>poutcome.other</th>\n",
       "      <th>poutcome.success</th>\n",
       "      <th>poutcome.unknown</th>\n",
       "      <th>y</th>\n",
       "    </tr>\n",
       "  </thead>\n",
       "  <tbody>\n",
       "    <tr>\n",
       "      <th>0</th>\n",
       "      <td>57</td>\n",
       "      <td>False</td>\n",
       "      <td>890</td>\n",
       "      <td>False</td>\n",
       "      <td>False</td>\n",
       "      <td>5</td>\n",
       "      <td>343</td>\n",
       "      <td>999</td>\n",
       "      <td>0</td>\n",
       "      <td>0</td>\n",
       "      <td>...</td>\n",
       "      <td>0</td>\n",
       "      <td>0</td>\n",
       "      <td>0</td>\n",
       "      <td>0</td>\n",
       "      <td>0</td>\n",
       "      <td>0</td>\n",
       "      <td>0</td>\n",
       "      <td>0</td>\n",
       "      <td>1</td>\n",
       "      <td>no</td>\n",
       "    </tr>\n",
       "    <tr>\n",
       "      <th>1</th>\n",
       "      <td>56</td>\n",
       "      <td>False</td>\n",
       "      <td>2558</td>\n",
       "      <td>False</td>\n",
       "      <td>False</td>\n",
       "      <td>19</td>\n",
       "      <td>288</td>\n",
       "      <td>999</td>\n",
       "      <td>0</td>\n",
       "      <td>0</td>\n",
       "      <td>...</td>\n",
       "      <td>0</td>\n",
       "      <td>0</td>\n",
       "      <td>0</td>\n",
       "      <td>0</td>\n",
       "      <td>0</td>\n",
       "      <td>0</td>\n",
       "      <td>0</td>\n",
       "      <td>0</td>\n",
       "      <td>1</td>\n",
       "      <td>no</td>\n",
       "    </tr>\n",
       "    <tr>\n",
       "      <th>2</th>\n",
       "      <td>50</td>\n",
       "      <td>False</td>\n",
       "      <td>267</td>\n",
       "      <td>True</td>\n",
       "      <td>False</td>\n",
       "      <td>21</td>\n",
       "      <td>30</td>\n",
       "      <td>999</td>\n",
       "      <td>0</td>\n",
       "      <td>0</td>\n",
       "      <td>...</td>\n",
       "      <td>0</td>\n",
       "      <td>0</td>\n",
       "      <td>0</td>\n",
       "      <td>0</td>\n",
       "      <td>0</td>\n",
       "      <td>0</td>\n",
       "      <td>0</td>\n",
       "      <td>0</td>\n",
       "      <td>1</td>\n",
       "      <td>no</td>\n",
       "    </tr>\n",
       "    <tr>\n",
       "      <th>3</th>\n",
       "      <td>47</td>\n",
       "      <td>False</td>\n",
       "      <td>4567</td>\n",
       "      <td>False</td>\n",
       "      <td>False</td>\n",
       "      <td>31</td>\n",
       "      <td>921</td>\n",
       "      <td>999</td>\n",
       "      <td>0</td>\n",
       "      <td>0</td>\n",
       "      <td>...</td>\n",
       "      <td>0</td>\n",
       "      <td>0</td>\n",
       "      <td>0</td>\n",
       "      <td>0</td>\n",
       "      <td>0</td>\n",
       "      <td>0</td>\n",
       "      <td>0</td>\n",
       "      <td>0</td>\n",
       "      <td>1</td>\n",
       "      <td>no</td>\n",
       "    </tr>\n",
       "    <tr>\n",
       "      <th>4</th>\n",
       "      <td>49</td>\n",
       "      <td>False</td>\n",
       "      <td>5887</td>\n",
       "      <td>False</td>\n",
       "      <td>False</td>\n",
       "      <td>2</td>\n",
       "      <td>181</td>\n",
       "      <td>293</td>\n",
       "      <td>2</td>\n",
       "      <td>0</td>\n",
       "      <td>...</td>\n",
       "      <td>0</td>\n",
       "      <td>0</td>\n",
       "      <td>0</td>\n",
       "      <td>0</td>\n",
       "      <td>0</td>\n",
       "      <td>1</td>\n",
       "      <td>0</td>\n",
       "      <td>0</td>\n",
       "      <td>0</td>\n",
       "      <td>yes</td>\n",
       "    </tr>\n",
       "  </tbody>\n",
       "</table>\n",
       "<p>5 rows × 95 columns</p>\n",
       "</div>"
      ],
      "text/plain": [
       "   age  default  balance  housing   loan  day  duration  pdays  previous  \\\n",
       "0   57    False      890    False  False    5       343    999         0   \n",
       "1   56    False     2558    False  False   19       288    999         0   \n",
       "2   50    False      267     True  False   21        30    999         0   \n",
       "3   47    False     4567    False  False   31       921    999         0   \n",
       "4   49    False     5887    False  False    2       181    293         2   \n",
       "\n",
       "   job.admin.  ...  campaign.50  campaign.51  campaign.55  campaign.58  \\\n",
       "0           0  ...            0            0            0            0   \n",
       "1           0  ...            0            0            0            0   \n",
       "2           0  ...            0            0            0            0   \n",
       "3           0  ...            0            0            0            0   \n",
       "4           0  ...            0            0            0            0   \n",
       "\n",
       "   campaign.63  poutcome.failure  poutcome.other  poutcome.success  \\\n",
       "0            0                 0               0                 0   \n",
       "1            0                 0               0                 0   \n",
       "2            0                 0               0                 0   \n",
       "3            0                 0               0                 0   \n",
       "4            0                 1               0                 0   \n",
       "\n",
       "   poutcome.unknown    y  \n",
       "0                 1   no  \n",
       "1                 1   no  \n",
       "2                 1   no  \n",
       "3                 1   no  \n",
       "4                 0  yes  \n",
       "\n",
       "[5 rows x 95 columns]"
      ]
     },
     "execution_count": 15,
     "metadata": {},
     "output_type": "execute_result"
    }
   ],
   "source": [
    "##Read data and make one hot vectors\n",
    "train_data = read_data(train_path)\n",
    "n_categorical_cols = ['job', 'marital', 'education', 'contact', 'month', 'campaign', 'poutcome']\n",
    "#print('non categorical or biary cols',set(train_data.columns) - set(n_categorical_cols))\n",
    "std_train_data = train_data.copy(deep=True)\n",
    "\n",
    "ohe_train_data = make_one_hot_encoding(train_data, n_categorical_cols)\n",
    "ohe_train_data.loc[ohe_train_data['pdays'] == -1, 'pdays'] = 999\n",
    "#print(std_train_data.shape)\n",
    "#print(ohe_train_data.shape)\n",
    "#ohe_train_data.head()"
   ]
  },
  {
   "cell_type": "code",
   "execution_count": 16,
   "id": "9c5411c4-6749-45d4-a857-f4c26a7547f2",
   "metadata": {},
   "outputs": [
    {
     "name": "stdout",
     "output_type": "stream",
     "text": [
      "test std shape       : (4521, 17)\n",
      "test ohe shape       : (4521, 95)\n",
      "validation std shape : (4522, 17)\n",
      "validation ohe shape : (4522, 95)\n"
     ]
    }
   ],
   "source": [
    "test_data = read_data(test_path)\n",
    "vali_data = read_data(validate_path)\n",
    "std_test_data = test_data.copy(deep=True)\n",
    "std_vali_data = vali_data.copy(deep=True)\n",
    "\n",
    "ohe_test_data = apply_one_hot_encoding(test_data, n_categorical_cols)\n",
    "ohe_test_data.loc[ohe_test_data['pdays'] == -1, 'pdays'] = 999\n",
    "ohe_vali_data = apply_one_hot_encoding(vali_data, n_categorical_cols)\n",
    "ohe_vali_data.loc[ohe_vali_data['pdays'] == -1, 'pdays'] = 999\n",
    "\n",
    "print('test std shape       :',std_test_data.shape)\n",
    "print('test ohe shape       :',ohe_test_data.shape)\n",
    "print('validation std shape :',std_vali_data.shape)\n",
    "print('validation ohe shape :',ohe_vali_data.shape)\n"
   ]
  },
  {
   "cell_type": "markdown",
   "id": "a0c585f7-a404-4329-a72f-180fea868740",
   "metadata": {},
   "source": [
    "### Changing numerical columns"
   ]
  },
  {
   "cell_type": "code",
   "execution_count": 17,
   "id": "2a2a5fa1-dc7c-4579-94fe-5e75f6d4952f",
   "metadata": {},
   "outputs": [],
   "source": [
    "numerical_cols = ['age', 'balance', 'day', 'duration','pdays', 'previous']\n",
    "# data_medians = ohe_train_data[numerical_cols].median(axis = 0)\n",
    "# for col in numerical_cols:\n",
    "#     train_data[col] = ohe_train_data[col] > data_medians[col]\n",
    "# ohe_train_data.head()"
   ]
  },
  {
   "cell_type": "code",
   "execution_count": 18,
   "id": "287fa09b-b98e-4678-876f-270dd49c8a05",
   "metadata": {
    "tags": []
   },
   "outputs": [],
   "source": [
    "# numerical_cols = ['age', 'balance', 'day', 'duration','pdays', 'previous']\n",
    "# medians = train_data[numerical_cols].median(axis=0)\n",
    "# print(medians)"
   ]
  },
  {
   "cell_type": "code",
   "execution_count": 19,
   "id": "e6f49ffd-f07a-4e54-94be-357211bec4d2",
   "metadata": {
    "tags": []
   },
   "outputs": [],
   "source": [
    "# # Not useful\n",
    "# # Delete it\n",
    "# def split_on_median(data, col):\n",
    "#     med = np.median(data[col])\n",
    "#     print('\\n\\nmedian', med)\n",
    "#     #data[data[col] > med]\n",
    "#     data.loc[:,col] = data.loc[:,col] > med\n",
    "#     return data, med"
   ]
  },
  {
   "cell_type": "code",
   "execution_count": 20,
   "id": "dfed971b-9653-4e30-aff0-ec2b1e4d5938",
   "metadata": {},
   "outputs": [],
   "source": [
    "def entropy(data):\n",
    "    m = data.shape[0]\n",
    "    negative_data = data[data['y'] == 'no'].shape[0]\n",
    "    positive_data = data[data['y'] == 'yes'].shape[0]\n",
    "    if negative_data == 0 or positive_data == 0:\n",
    "        return 0\n",
    "    ent = (positive_data/m)*np.log2(m/positive_data) + (negative_data/m)*np.log2(m/negative_data)\n",
    "    return ent\n",
    "# entropy(ohe_train_data)"
   ]
  },
  {
   "cell_type": "code",
   "execution_count": 21,
   "id": "1a774685-93ab-4a8c-86b2-2994af497d71",
   "metadata": {
    "tags": []
   },
   "outputs": [],
   "source": [
    "std_col_val_set = {}\n",
    "for col in std_train_data.columns:\n",
    "    if col in numerical_cols:\n",
    "        std_col_val_set[col] = [True, False]\n",
    "    else:\n",
    "        std_col_val_set[col] = list(set(std_train_data[col].values))\n",
    "# print('normal col values')\n",
    "# print(std_col_val_set)\n",
    "\n",
    "ohe_col_val_set = {}\n",
    "for col in ohe_train_data.columns:\n",
    "    if col in numerical_cols:\n",
    "        ohe_col_val_set[col] = [True, False]\n",
    "    else:\n",
    "        ohe_col_val_set[col] = list(set(ohe_train_data[col].values))\n",
    "# print('Ohe encoded col values')\n",
    "# print(ohe_col_val_set)"
   ]
  },
  {
   "cell_type": "code",
   "execution_count": 22,
   "id": "bd9bd9a7-0799-4eaa-8f35-759be09301e5",
   "metadata": {},
   "outputs": [],
   "source": [
    "def inf_gain(attr, data):\n",
    "    m = data.shape[0]\n",
    "    if m == 0:\n",
    "        return 0\n",
    "    uniq_values = None\n",
    "    col_median = None\n",
    "    if attr in numerical_cols:\n",
    "        col_median = data[attr].median()\n",
    "        uniq_values = [True, False]\n",
    "    else:\n",
    "        uniq_values = col_val_set[attr]\n",
    "    Hs = []\n",
    "    for val in uniq_values:\n",
    "        sub_data = None\n",
    "        if attr in numerical_cols and val:\n",
    "            sub_data = data[data[attr] > col_median]\n",
    "        elif attr in numerical_cols and not val:\n",
    "            sub_data = data[data[attr] <= col_median]\n",
    "        else:\n",
    "            sub_data = data[data[attr] == val]\n",
    "        if sub_data.shape[0] == 0:\n",
    "            continue\n",
    "        en = entropy(sub_data)\n",
    "        prob = sub_data.shape[0]/m\n",
    "        Hs.append(prob*en)\n",
    "    return np.sum(Hs)"
   ]
  },
  {
   "cell_type": "code",
   "execution_count": 23,
   "id": "75a813f6-404b-4223-909d-cfbcf556a2c7",
   "metadata": {
    "jp-MarkdownHeadingCollapsed": true,
    "tags": []
   },
   "outputs": [],
   "source": [
    "def best_attr_split(data):\n",
    "    if data.shape[0] == 0:\n",
    "        return None, 0\n",
    "    #print('best attr data',data.shape)\n",
    "    max_ig = 0\n",
    "    best_attr = None\n",
    "    H_y = entropy(data)\n",
    "    #print('entropy of dataset', H_y)\n",
    "    for col in data.columns[:-1]:\n",
    "        ig = H_y - inf_gain(col, data)\n",
    "        #print('Col: %-20s info gain: %f'%(col,ig))\n",
    "        if max_ig < ig:\n",
    "            max_ig = ig\n",
    "            best_attr = col\n",
    "    return best_attr, max_ig\n",
    "# print(ohe_train_data[0:15])\n",
    "\n",
    "#col_val_set = ohe_col_val_set\n",
    "# best_attr_split(ohe_train_data[:20])"
   ]
  },
  {
   "cell_type": "code",
   "execution_count": 24,
   "id": "f2bc0a3d-6a15-4c51-be01-cfb7993b7b7a",
   "metadata": {
    "tags": []
   },
   "outputs": [],
   "source": [
    "class Node:\n",
    "    total_nodes = 0\n",
    "    def  __init__(self, parent, val=-1, childs = [], attr = None, split_val_parent= None, median = None):\n",
    "        self.parent = parent\n",
    "        self.val = val\n",
    "        self.childs = childs\n",
    "        self.sub_tree_size = 0\n",
    "        self.attr = attr\n",
    "        self.split_val_p = split_val_parent\n",
    "        self.median = median\n",
    "        self.prune_below = False\n",
    "        self.pruning_checked = False\n",
    "        Node.total_nodes += 1\n",
    "    \n",
    "    def __str__(self):\n",
    "        l = len(self.childs)\n",
    "        return 'attr:%-10s, val:%-10s, pruned?:%-5d,p_checked:%d ,#childs:%-5d'%(self.attr,str(self.val),self.prune_below,self.pruning_checked,l)"
   ]
  },
  {
   "cell_type": "code",
   "execution_count": 25,
   "id": "8976bb8b-00ee-4940-bfb8-214f5431031d",
   "metadata": {
    "tags": []
   },
   "outputs": [],
   "source": [
    "# std_train_data.head(15)"
   ]
  },
  {
   "cell_type": "code",
   "execution_count": 26,
   "id": "ab057e84-ef69-487b-aa95-3f6bf6513270",
   "metadata": {},
   "outputs": [],
   "source": [
    "# Make Decision tree\n",
    "class DecisionTree():\n",
    "    def __init__(self, max_depth=20):\n",
    "        self.max_depth = max_depth\n",
    "        self.prediction_at_depth = []\n",
    "    \n",
    "    def build_tree(self, data, parent = None):\n",
    "        # print('data ------------',data.shape)\n",
    "        median = None\n",
    "        if data.shape[0] == 0:\n",
    "            return None\n",
    "        Y_uniq_vals_len = len(list(set(data['y'].values)))\n",
    "        y_val = data['y'].mode()[0]\n",
    "        if Y_uniq_vals_len <=1:\n",
    "            return Node(parent = parent, val = y_val, childs = [], attr='leaf')\n",
    "        split_attr, max_ig = best_attr_split(data)\n",
    "        if split_attr == None:\n",
    "            print('\\n\\n no values to split')\n",
    "            #print(data.shape)\n",
    "            #print(data)\n",
    "            return Node(parent = parent, val = y_val, childs = [], attr='leaf')\n",
    "        if max_ig < 0:\n",
    "            print('\\n\\n negative ig max')\n",
    "            #print(data.shape)\n",
    "            #print(data)\n",
    "            return None\n",
    "\n",
    "        if split_attr in numerical_cols:\n",
    "            median = data[split_attr].median()\n",
    "        \n",
    "        values_to_split = col_val_set[split_attr]\n",
    "\n",
    "        node = Node(parent=parent,val=y_val,childs=[],attr=split_attr, median=median)\n",
    "        node.sub_tree_size = 1\n",
    "        # print('Attr:',split_attr)\n",
    "        for split_val in values_to_split:\n",
    "            # If and elif --it's a numirical attribute, els -- for categorical\n",
    "            # print('split value:',split_val)\n",
    "            if median != None and split_val == True:\n",
    "                # print('more than median')\n",
    "                # print('median',median)\n",
    "                child = self.build_tree(data[data[split_attr] > median], node)\n",
    "            elif median != None and split_val == False:\n",
    "                # print('less then median')\n",
    "                child = self.build_tree(data[data[split_attr] <= median], node)\n",
    "            else:\n",
    "                # print('no categorical')\n",
    "                child = self.build_tree(data[data[split_attr] == split_val], node)\n",
    "            \n",
    "            if child != None:\n",
    "                child.split_val_p = split_val\n",
    "                node.childs.append(child)\n",
    "                node.sub_tree_size += child.sub_tree_size\n",
    "        # print('returning for node',node)\n",
    "        return node\n",
    "    \n",
    "    def predict_a_point(self, row, node, depth = 0, max_depth = 50, consider_pruning = False, prune_it = False):\n",
    "        #print('For row  :',row.head())\n",
    "        if node == None:\n",
    "            print(\"\\n\\n\\nNode became none-----------------------------\")\n",
    "            return 0\n",
    "        if 'y' in row:\n",
    "            pred = 1 if node.val == row['y'] else 0\n",
    "            self.prediction_at_depth.append(pred)\n",
    "            \n",
    "        if consider_pruning and node.prune_below:\n",
    "            return node.val\n",
    "        \n",
    "        if len(node.childs) < 1 or node.attr == 'leaf' or depth >= max_depth:\n",
    "            return node.val\n",
    "        attribute = node.attr\n",
    "        # print('Attribute : %s'%(attribute))\n",
    "    #     print('node      : %s'%(node))\n",
    "        if attribute in numerical_cols:\n",
    "    #         print('\\tnumerical attr')\n",
    "    #         print('\\trows attr value : %-10s'%str(row[attribute]))\n",
    "            if row[attribute] > node.median:\n",
    "                return self.predict_a_point(row, node.childs[0], depth+1, max_depth, consider_pruning, prune_it)\n",
    "            else:\n",
    "                return self.predict_a_point(row, node.childs[1], depth+1, max_depth, consider_pruning, prune_it)\n",
    "        else:\n",
    "    #         print('\\tnon-numerical attr')\n",
    "            for child in node.childs:\n",
    "    #             print('No. childs:',len(node.childs))\n",
    "    #             print('\\tChild:',child)\n",
    "                if row[attribute] == child.split_val_p:\n",
    "                    return self.predict_a_point(row, child, depth+1, max_depth, consider_pruning, prune_it)\n",
    "        #print('New Attribute val found ----------------------------')\n",
    "        #print('suggested value by node:', node.val)\n",
    "        return node.val\n",
    "    \n",
    "    def predict(self,tree, data, consider_pruning = False):\n",
    "        predictions = []\n",
    "        depth_wise_predictions = []\n",
    "        max_depth_pred = 0\n",
    "        for index, row in data.iterrows():\n",
    "            self.prediction_at_depth = []\n",
    "            predictions.append(self.predict_a_point(row, tree, consider_pruning=consider_pruning))\n",
    "            \n",
    "            if len(self.prediction_at_depth) > max_depth_pred:\n",
    "                max_depth_pred = len(self.prediction_at_depth)\n",
    "            \n",
    "            depth_wise_predictions.append(self.prediction_at_depth)\n",
    "        \n",
    "        depth_pred = np.zeros((len(depth_wise_predictions), max_depth_pred))\n",
    "        for i in range(depth_pred.shape[0]):\n",
    "            for j in range(depth_pred.shape[1]):\n",
    "                if len(depth_wise_predictions[i]) > j:\n",
    "                    depth_pred[i,j] = depth_wise_predictions[i][j]\n",
    "                else:\n",
    "                    depth_pred[i,j] = depth_pred[i,j-1]\n",
    "                #print(depth_pred[i,j], end = ' ')\n",
    "            #print()\n",
    "        depth_wise_predictions = [0]*max_depth_pred\n",
    "        for d in range(max_depth_pred):\n",
    "            depth_wise_predictions[d] = sum(depth_pred[:,d])*100/data.shape[0]\n",
    "\n",
    "        return predictions, depth_wise_predictions\n",
    "    \n",
    "    def set_prune_values(self, row, node, depth = 0, max_depth = 50, prune_it = False):\n",
    "        #print('For row  :',row.head())\n",
    "        if node == None:\n",
    "            print(\"\\n\\n\\nNode became none-----------------------------\")\n",
    "            return 0\n",
    "        pred = 1 if node.val == row['y'] else 0\n",
    "        self.prediction_at_depth.append(pred)\n",
    "        \n",
    "        if pred == 1 and not node.pruning_checked:\n",
    "            #print('pruning')\n",
    "            node.prune_below = True\n",
    "            #print('\\t',node)\n",
    "            return node.val\n",
    "        \n",
    "        else:\n",
    "            #print('rem prune')\n",
    "            node.prune_below = False\n",
    "            node.pruning_checked = True\n",
    "        \n",
    "        if len(node.childs)<1 or node.attr == 'leaf' or depth >= max_depth:\n",
    "            return node.val\n",
    "        \n",
    "        attribute = node.attr\n",
    "        \n",
    "        # print('Attribute : %s'%(attribute))\n",
    "    #     print('node      : %s'%(node))\n",
    "        if attribute in numerical_cols:\n",
    "    #         print('\\tnumerical attr')\n",
    "    #         print('\\trows attr value : %-10s'%str(row[attribute]))\n",
    "            if row[attribute] > node.median:\n",
    "                return self.set_prune_values(row, node.childs[0], depth+1, max_depth)\n",
    "            else:\n",
    "                return self.set_prune_values(row, node.childs[1], depth+1, max_depth)\n",
    "        else:\n",
    "    #         print('\\tnon-numerical attr')\n",
    "            for child in node.childs:\n",
    "    #             print('No. childs:',len(node.childs))\n",
    "    #             print('\\tChild:',child)\n",
    "                if row[attribute] == child.split_val_p:\n",
    "                    return self.set_prune_values(row, child, depth+1, max_depth)\n",
    "        \n",
    "        #print('New Attribute val found ----------------------------')\n",
    "        return node.val\n",
    "    \n",
    "    def dfs_tree(self, node, d =0):\n",
    "        if node != None:\n",
    "            if node.prune_below == True and node.attr != 'leaf':\n",
    "                print('pruned node at depth:%d'%(d))\n",
    "                print(node)\n",
    "        for child in node.childs:\n",
    "            self.dfs_tree(child, d+1)\n",
    "        return None\n",
    "    \n",
    "    ## Reduced Error Pruning -->\n",
    "    def prune_tree(self, tree, data):\n",
    "        predictions = []\n",
    "        for index, row in data.iterrows():\n",
    "            predictions.append(self.set_prune_values(row, tree))\n",
    "        print('pruning done')\n",
    "        return predictions\n",
    "    \n",
    "    def count_depth(self, node, d = 0,node_count=0, count_pruned = True):\n",
    "        d_s = [d]\n",
    "        node_count +=1\n",
    "        if node.prune_below and not count_pruned:\n",
    "            return d\n",
    "        for child in node.childs:\n",
    "            d_local = self.count_depth(child, d+1, node_count, count_pruned)\n",
    "            d_s.append(d_local)\n",
    "        return np.max(d_s)\n",
    "        "
   ]
  },
  {
   "cell_type": "code",
   "execution_count": 27,
   "id": "55cb135b-42d8-4141-ac4f-ef3c9d63ea96",
   "metadata": {},
   "outputs": [],
   "source": [
    "import warnings\n",
    "warnings.filterwarnings('ignore')"
   ]
  },
  {
   "cell_type": "markdown",
   "id": "57a422ff-0aa2-443a-80e5-c9678b10fa76",
   "metadata": {
    "tags": []
   },
   "source": [
    "### Global Variables --"
   ]
  },
  {
   "cell_type": "code",
   "execution_count": 28,
   "id": "ac35893a-a224-41e8-b778-e1915207598e",
   "metadata": {},
   "outputs": [],
   "source": [
    "col_val_set = {}\n",
    "std_tree_root = None\n",
    "ohe_tree_root = None"
   ]
  },
  {
   "cell_type": "markdown",
   "id": "508e7316-a02a-47d1-846f-a0ed5ab45423",
   "metadata": {},
   "source": [
    "### Exec to make decision Tree"
   ]
  },
  {
   "cell_type": "code",
   "execution_count": 45,
   "id": "ff83eb58-83b2-4aa6-891c-b718dccb60b7",
   "metadata": {
    "tags": []
   },
   "outputs": [
    {
     "name": "stdout",
     "output_type": "stream",
     "text": [
      "time taken 0:00:00.092396\n",
      "Node Count: 3 Depth: 1\n"
     ]
    }
   ],
   "source": [
    "## Standard split for each uniq categorical values\n",
    "# part = 'a'\n",
    "if part == 'a' or part == 'b':\n",
    "    t1 = datetime.datetime.now()\n",
    "    d_tree = DecisionTree()\n",
    "    col_val_set = std_col_val_set\n",
    "    std_tree_root = d_tree.build_tree(std_train_data[:])\n",
    "    t2 = datetime.datetime.now()\n",
    "    print('time taken',t2-t1)\n",
    "    \n",
    "    node_count =0\n",
    "    def count_depth(node, d = 0, count_pruned = True):\n",
    "        d_s = [d]\n",
    "        global node_count\n",
    "        node_count +=1\n",
    "        if node.prune_below and not count_pruned:\n",
    "            return d\n",
    "        for child in node.childs:\n",
    "            d_local = count_depth(child, d+1, count_pruned)\n",
    "            d_s.append(d_local)\n",
    "        return np.max(d_s)\n",
    "\n",
    "    l_depth = count_depth(std_tree_root, count_pruned=False)\n",
    "    print('Node Count:',node_count,'Depth:', l_depth)"
   ]
  },
  {
   "cell_type": "code",
   "execution_count": 33,
   "id": "69c46943-aacd-4dbc-9d3f-6f03179b4c51",
   "metadata": {
    "tags": []
   },
   "outputs": [
    {
     "name": "stdout",
     "output_type": "stream",
     "text": [
      "time taken 0:00:00.158346\n"
     ]
    }
   ],
   "source": [
    "if part =='a' or part == 'b':\n",
    "    t1 = datetime.datetime.now()\n",
    "    d_tree = DecisionTree()\n",
    "    col_val_set = ohe_col_val_set\n",
    "    ohe_tree_root = d_tree.build_tree(ohe_train_data[:])\n",
    "    t2 = datetime.datetime.now()\n",
    "    print('time taken',t2-t1)"
   ]
  },
  {
   "cell_type": "markdown",
   "id": "55d0972f-e576-4496-bb88-ea8a8a9d3174",
   "metadata": {},
   "source": [
    "### Prediction for train, test and validation set"
   ]
  },
  {
   "cell_type": "code",
   "execution_count": 35,
   "id": "41daed61-486a-4bfa-8dee-cf26aac72100",
   "metadata": {
    "collapsed": true,
    "jupyter": {
     "outputs_hidden": true
    },
    "tags": []
   },
   "outputs": [
    {
     "name": "stdout",
     "output_type": "stream",
     "text": [
      "For Normal(non ohe) train: [88.35987613359876, 78.69110816191107]\n",
      "For Ohe Train: [88.35987613359876, 78.69110816191107]\n",
      "test accuracy       : [87.52488387524883, 77.2174297721743]\n",
      "test accuracy       : [87.52488387524883, 77.2174297721743]\n",
      "validatoin accuracy : [88.61123396727112, 77.90800530738612]\n"
     ]
    },
    {
     "data": {
      "image/png": "[encoded data removed]",
      "text/plain": [
       "<Figure size 432x288 with 1 Axes>"
      ]
     },
     "metadata": {
      "needs_background": "light"
     },
     "output_type": "display_data"
    },
    {
     "name": "stdout",
     "output_type": "stream",
     "text": [
      "validatoin accuracy : [88.61123396727112, 77.90800530738612]\n"
     ]
    },
    {
     "data": {
      "image/png": "[encoded data removed]",
      "text/plain": [
       "<Figure size 432x288 with 1 Axes>"
      ]
     },
     "metadata": {
      "needs_background": "light"
     },
     "output_type": "display_data"
    }
   ],
   "source": [
    "if part == 'a':\n",
    "    _, std_train_acc = d_tree.predict(std_tree_root, std_train_data[:])\n",
    "    print('For Normal(non ohe) train:',std_train_acc)\n",
    "\n",
    "    _, ohe_train_acc = d_tree.predict(ohe_tree_root, ohe_train_data[:])\n",
    "    print('For Ohe Train:',ohe_train_acc)\n",
    "\n",
    "    _, test_acc = d_tree.predict(std_tree_root, std_test_data[:])\n",
    "    print('std test accuracy       :',test_acc)\n",
    "    \n",
    "    _, ohe_test_acc = d_tree.predict(ohe_tree_root, ohe_test_data[:])\n",
    "    print('ohe test accuracy       :',ohe_test_acc)\n",
    "    \n",
    "    _, std_vali_acc = d_tree.predict(std_tree_root, std_vali_data[:])\n",
    "    print('std validatoin accuracy :', std_vali_acc)\n",
    "    \n",
    "    _, ohe_vali_acc = d_tree.predict(ohe_tree_root, ohe_vali_data[:])\n",
    "    print('ohe validatoin accuracy :',ohe_vali_acc)\n",
    "    \n",
    "    fig = plt.figure()\n",
    "    plt.plot(std_vali_acc, 'g', label = 'validation acc')\n",
    "    plt.plot(test_acc, '-r', label = 'test acc')\n",
    "    plt.plot(std_train_acc,'-b', label = 'train acc')\n",
    "    plt.title(\"Non Ohe accuracy\")\n",
    "    plt.xlabel(\"Depth\")\n",
    "    plt.ylabel(\"Accuracies\")\n",
    "    plt.legend()\n",
    "    #plt.show()\n",
    "    fig.savefig(\"Non_ohe_accuracy_all.png\")\n",
    "    \n",
    "    fig = plt.figure()\n",
    "    plt.plot(ohe_vali_acc, '-g', label = 'validation acc')\n",
    "    plt.plot(ohe_test_acc, '-r', label = 'test acc')\n",
    "    plt.plot(ohe_train_acc, '-b', label = 'train acc')\n",
    "    plt.title(\"Ohe accuracy\")\n",
    "    plt.xlabel(\"Depth\")\n",
    "    plt.ylabel(\"Accuracies\")\n",
    "    plt.legend()\n",
    "    #plt.show()\n",
    "    fig.savefig(\"part_a_Ohe_accuracy_all.png\")"
   ]
  },
  {
   "cell_type": "code",
   "execution_count": 34,
   "id": "ed339610-b884-4baf-a852-6166cdb472bb",
   "metadata": {
    "collapsed": true,
    "jupyter": {
     "outputs_hidden": true
    },
    "tags": []
   },
   "outputs": [
    {
     "name": "stdout",
     "output_type": "stream",
     "text": [
      "test accuracy       : [87.52488387524883, 77.2174297721743]\n"
     ]
    },
    {
     "ename": "NameError",
     "evalue": "name 'std_train_acc' is not defined",
     "output_type": "error",
     "traceback": [
      "\u001b[0;31m---------------------------------------------------------------------------\u001b[0m",
      "\u001b[0;31mNameError\u001b[0m                                 Traceback (most recent call last)",
      "\u001b[0;32m/tmp/ipykernel_18482/676405158.py\u001b[0m in \u001b[0;36m<module>\u001b[0;34m\u001b[0m\n\u001b[1;32m      4\u001b[0m     \u001b[0mfig\u001b[0m \u001b[0;34m=\u001b[0m \u001b[0mplt\u001b[0m\u001b[0;34m.\u001b[0m\u001b[0mfigure\u001b[0m\u001b[0;34m(\u001b[0m\u001b[0;34m)\u001b[0m\u001b[0;34m\u001b[0m\u001b[0;34m\u001b[0m\u001b[0m\n\u001b[1;32m      5\u001b[0m     \u001b[0mplt\u001b[0m\u001b[0;34m.\u001b[0m\u001b[0mplot\u001b[0m\u001b[0;34m(\u001b[0m\u001b[0mtest_acc\u001b[0m\u001b[0;34m,\u001b[0m \u001b[0;34m'-r'\u001b[0m\u001b[0;34m,\u001b[0m \u001b[0mlabel\u001b[0m \u001b[0;34m=\u001b[0m \u001b[0;34m'test acc'\u001b[0m\u001b[0;34m)\u001b[0m\u001b[0;34m\u001b[0m\u001b[0;34m\u001b[0m\u001b[0m\n\u001b[0;32m----> 6\u001b[0;31m     \u001b[0mplt\u001b[0m\u001b[0;34m.\u001b[0m\u001b[0mplot\u001b[0m\u001b[0;34m(\u001b[0m\u001b[0mstd_train_acc\u001b[0m\u001b[0;34m,\u001b[0m\u001b[0;34m'-b'\u001b[0m\u001b[0;34m,\u001b[0m \u001b[0mlabel\u001b[0m \u001b[0;34m=\u001b[0m \u001b[0;34m'train acc'\u001b[0m\u001b[0;34m)\u001b[0m\u001b[0;34m\u001b[0m\u001b[0;34m\u001b[0m\u001b[0m\n\u001b[0m\u001b[1;32m      7\u001b[0m     \u001b[0mplt\u001b[0m\u001b[0;34m.\u001b[0m\u001b[0mtitle\u001b[0m\u001b[0;34m(\u001b[0m\u001b[0;34m\"Non ohe test accuracy\"\u001b[0m\u001b[0;34m)\u001b[0m\u001b[0;34m\u001b[0m\u001b[0;34m\u001b[0m\u001b[0m\n\u001b[1;32m      8\u001b[0m     \u001b[0mplt\u001b[0m\u001b[0;34m.\u001b[0m\u001b[0mxlabel\u001b[0m\u001b[0;34m(\u001b[0m\u001b[0;34m\"Depth\"\u001b[0m\u001b[0;34m)\u001b[0m\u001b[0;34m\u001b[0m\u001b[0;34m\u001b[0m\u001b[0m\n",
      "\u001b[0;31mNameError\u001b[0m: name 'std_train_acc' is not defined"
     ]
    },
    {
     "data": {
      "image/png": "[encoded data removed]",
      "text/plain": [
       "<Figure size 432x288 with 1 Axes>"
      ]
     },
     "metadata": {
      "needs_background": "light"
     },
     "output_type": "display_data"
    }
   ],
   "source": [
    "\n",
    "# _, test_acc = d_tree.predict(std_tree_root, std_test_data[:])\n",
    "# print('test accuracy       :',test_acc)\n",
    "# fig = plt.figure()\n",
    "# plt.plot(test_acc, '-r', label = 'test acc')\n",
    "# plt.plot(std_train_acc,'-b', label = 'train acc')\n",
    "# plt.title(\"Non ohe test accuracy\")\n",
    "# plt.xlabel(\"Depth\")\n",
    "# plt.ylabel(\"Accuracies\")\n",
    "# plt.legend()\n",
    "# plt.show()\n",
    "# #fig.savefig(\"Non_ohe_test_accuracy.png\")\n",
    "\n",
    "# _, ohe_test_acc = d_tree.predict(ohe_tree_root, ohe_test_data[:])\n",
    "# print('test accuracy       :',ohe_test_acc)\n",
    "# fig = plt.figure()\n",
    "# plt.plot(ohe_test_acc, '-r', label = 'test acc')\n",
    "# plt.plot(ohe_train_acc, '-b', label = 'train acc')\n",
    "# plt.title(\"Ohe test accuracy\")\n",
    "# plt.xlabel(\"Depth\")\n",
    "# plt.ylabel(\"Accuracies\")\n",
    "# plt.legend()\n",
    "# plt.show()\n",
    "# #fig.savefig(\"Ohe_test_accuracy.png\")\n",
    "\n",
    "# _, std_vali_acc = d_tree.predict(std_tree_root, std_vali_data[:])\n",
    "# print('validatoin accuracy :', std_vali_acc)\n",
    "# fig = plt.figure()\n",
    "# plt.plot(std_vali_acc, 'g', label = 'validation acc')\n",
    "# plt.plot(test_acc, '-r', label = 'test acc')\n",
    "# plt.plot(std_train_acc,'-b', label = 'train acc')\n",
    "# plt.title(\"Non Ohe Validation accuracy\")\n",
    "# plt.xlabel(\"Depth\")\n",
    "# plt.ylabel(\"Accuracies\")\n",
    "# plt.legend()\n",
    "# plt.show()\n",
    "# #fig.savefig(\"Non_ohe_validation_accuracy.png\")\n",
    "\n",
    "# _, ohe_vali_acc = d_tree.predict(ohe_tree_root, ohe_vali_data[:])\n",
    "# print('validatoin accuracy :',ohe_vali_acc)\n",
    "# fig = plt.figure()\n",
    "# plt.plot(ohe_vali_acc, '-g', label = 'validation acc')\n",
    "# plt.plot(ohe_test_acc, '-r', label = 'test acc')\n",
    "# plt.plot(ohe_train_acc, '-b', label = 'train acc')\n",
    "# plt.title(\"Ohe Validation accuracy\")\n",
    "# plt.xlabel(\"Depth\")\n",
    "# plt.ylabel(\"Accuracies\")\n",
    "# plt.legend()\n",
    "# plt.show()\n",
    "# #fig.savefig(\"Ohe_validation_accuracy.png\")"
   ]
  },
  {
   "cell_type": "markdown",
   "id": "70e565f4-43e3-4864-9e28-303b27f227d9",
   "metadata": {},
   "source": [
    "### Pruning part"
   ]
  },
  {
   "cell_type": "code",
   "execution_count": 37,
   "id": "324ac5ee-c027-4219-9148-f0e29b8121c3",
   "metadata": {
    "collapsed": true,
    "jupyter": {
     "outputs_hidden": true
    },
    "tags": []
   },
   "outputs": [
    {
     "name": "stdout",
     "output_type": "stream",
     "text": [
      "pruning done\n",
      "pruning done\n",
      "Pruned Accuracy for Trained\n",
      "\tFor standard data : [88.35987613359876, 78.69110816191107]\n",
      "\tFor OHE data      : [88.35987613359876, 78.69110816191107]\n",
      "Pruned Accuracy for Test\n",
      "\tFor standard data : [87.52488387524883, 77.2174297721743]\n",
      "\tFor OHE data      : [87.52488387524883, 77.2174297721743]\n",
      "Pruned Accuracy for Validation\n",
      "\tFor standard data : [88.61123396727112, 77.90800530738612]\n",
      "\tFor OHE data      : [88.61123396727112, 77.90800530738612]\n"
     ]
    },
    {
     "data": {
      "image/png": "[encoded data removed]",
      "text/plain": [
       "<Figure size 432x288 with 1 Axes>"
      ]
     },
     "metadata": {
      "needs_background": "light"
     },
     "output_type": "display_data"
    },
    {
     "data": {
      "image/png": "[encoded data removed]",
      "text/plain": [
       "<Figure size 432x288 with 1 Axes>"
      ]
     },
     "metadata": {
      "needs_background": "light"
     },
     "output_type": "display_data"
    }
   ],
   "source": [
    "# part = 'b'\n",
    "if part == 'b':\n",
    "    _ = d_tree.prune_tree(std_tree_root, std_vali_data[:])\n",
    "    _ = d_tree.prune_tree(ohe_tree_root, ohe_vali_data[:])\n",
    "    \n",
    "    print('Pruned Accuracy for Trained')\n",
    "    _, std_pruned_train_acc = d_tree.predict(std_tree_root, std_train_data[:], consider_pruning=True)\n",
    "    print('\\tFor standard data :',std_pruned_train_acc)\n",
    "\n",
    "    _, ohe_pruned_train_acc = d_tree.predict(ohe_tree_root, ohe_train_data[:], consider_pruning=True)\n",
    "    print('\\tFor OHE data      :',ohe_pruned_train_acc)\n",
    "    \n",
    "    print('Pruned Accuracy for Test')\n",
    "    _, std_pruned_test_acc = d_tree.predict(std_tree_root, std_test_data[:], consider_pruning=True)\n",
    "    print('\\tFor standard data :',std_pruned_test_acc)\n",
    "\n",
    "    _, ohe_pruned_test_acc = d_tree.predict(ohe_tree_root, ohe_test_data[:], consider_pruning=True)\n",
    "    print('\\tFor OHE data      :',ohe_pruned_test_acc)\n",
    "    \n",
    "    print('Pruned Accuracy for Validation')\n",
    "    _, std_pruned_vali_acc = d_tree.predict(std_tree_root, std_vali_data[:], consider_pruning=True)\n",
    "    print('\\tFor standard data :',std_pruned_vali_acc)\n",
    "    \n",
    "    _, ohe_pruned_vali_acc = d_tree.predict(ohe_tree_root, ohe_vali_data[:], consider_pruning=True)\n",
    "    print('\\tFor OHE data      :',ohe_pruned_vali_acc)\n",
    "\n",
    "    fig = plt.figure()\n",
    "    plt.plot(std_pruned_vali_acc, '-g', label = 'validation acc')\n",
    "    plt.plot(std_pruned_test_acc, '-r', label = 'test acc')\n",
    "    plt.plot(std_pruned_train_acc, '-b', label = 'train acc')\n",
    "    plt.title(\"Non Ohe Pruned accuracy\")\n",
    "    plt.xlabel(\"Depth\")\n",
    "    plt.ylabel(\"Accuracies\")\n",
    "    plt.legend()\n",
    "    #plt.show()\n",
    "    fig.savefig(\"Non_ohe_pruned_accuracy_all.png\")\n",
    "\n",
    "    fig = plt.figure()\n",
    "    plt.plot(ohe_pruned_vali_acc, '-g', label = 'validation acc')\n",
    "    plt.plot(ohe_pruned_test_acc, '-r', label = 'test acc')\n",
    "    plt.plot(ohe_pruned_train_acc, '-b', label = 'train acc')\n",
    "    plt.title(\"Ohe Pruned accuracy\")\n",
    "    plt.xlabel(\"Depth\")\n",
    "    plt.ylabel(\"Accuracies\")\n",
    "    plt.legend()\n",
    "    #plt.show()\n",
    "    fig.savefig(\"Ohe_pruned_accuracy_all.png\")\n",
    "    "
   ]
  },
  {
   "cell_type": "code",
   "execution_count": 82,
   "id": "6cecd297-e050-4d6a-8f48-3a784974f11b",
   "metadata": {
    "collapsed": true,
    "jupyter": {
     "outputs_hidden": true
    },
    "tags": []
   },
   "outputs": [
    {
     "name": "stdout",
     "output_type": "stream",
     "text": [
      "Pruned Accuracy for Test\n",
      "\tFor standard data : [87.52488387524883, 87.52488387524883, 88.80778588807786, 88.98473788984738, 88.69719088697191, 89.27228489272285, 88.85202388852024, 89.00685689006856, 88.36540588365406, 88.14421588144216, 88.07785888077859, 88.12209688122097, 88.14421588144216, 88.09997788099977, 88.07785888077859, 88.07785888077859]\n"
     ]
    },
    {
     "data": {
      "image/png": "[encoded data removed]",
      "text/plain": [
       "<Figure size 432x288 with 1 Axes>"
      ]
     },
     "metadata": {
      "needs_background": "light"
     },
     "output_type": "display_data"
    },
    {
     "name": "stdout",
     "output_type": "stream",
     "text": [
      "\tFor OHE data      : [87.52488387524883, 87.52488387524883, 88.80778588807786, 88.82990488829905, 88.80778588807786, 89.33864189338642, 89.47135589471355, 89.27228489272285, 89.18380889183808, 89.05109489051095, 89.07321389073213, 89.09533289095333, 89.20592789205928, 89.02897589028976, 88.89626188896261, 88.940499889405, 88.69719088697191, 88.52023888520239, 88.74142888741429, 88.63083388630834, 88.56447688564477, 88.47600088476001, 88.45388188453882, 88.34328688343287, 88.45388188453882, 88.34328688343287, 88.54235788542358, 88.34328688343287, 88.38752488387524, 88.38752488387524, 88.40964388409644, 88.43176288431764, 88.43176288431764, 88.43176288431764, 88.43176288431764]\n"
     ]
    },
    {
     "data": {
      "image/png": "[encoded data removed]",
      "text/plain": [
       "<Figure size 432x288 with 1 Axes>"
      ]
     },
     "metadata": {
      "needs_background": "light"
     },
     "output_type": "display_data"
    }
   ],
   "source": [
    "# print('Pruned Accuracy for Test')\n",
    "# _, std_pruned_test_acc = d_tree.predict(std_tree_root, std_test_data[:], consider_pruning=True)\n",
    "# print('\\tFor standard data :',std_pruned_test_acc)\n",
    "\n",
    "# fig = plt.figure()\n",
    "# plt.plot(std_pruned_test_acc, '-r', label = 'test acc')\n",
    "# plt.plot(std_pruned_train_acc, '-b', label = 'train acc')\n",
    "# plt.title(\"Non Ohe Pruned Test accuracy\")\n",
    "# plt.xlabel(\"Depth\")\n",
    "# plt.ylabel(\"Accuracies\")\n",
    "# plt.legend()\n",
    "# plt.show()\n",
    "# #fig.savefig(\"Non_ohe_pruned_test_accuracy.png\")\n",
    "\n",
    "# _, ohe_pruned_test_acc = d_tree.predict(ohe_tree_root, ohe_test_data[:], consider_pruning=True)\n",
    "# print('\\tFor OHE data      :',ohe_pruned_test_acc)\n",
    "\n",
    "# fig = plt.figure()\n",
    "# plt.plot(ohe_pruned_test_acc, '-r', label = 'test acc')\n",
    "# plt.plot(ohe_pruned_train_acc, '-b', label = 'train acc')\n",
    "# plt.title(\"Ohe Pruned Test accuracy\")\n",
    "# plt.xlabel(\"Depth\")\n",
    "# plt.ylabel(\"Accuracies\")\n",
    "# plt.legend()\n",
    "# plt.show()\n",
    "# #fig.savefig(\"Ohe_pruned_test_accuracy.png\")"
   ]
  },
  {
   "cell_type": "code",
   "execution_count": 83,
   "id": "6d71729f-8c92-4ea6-af23-3b89ac48b157",
   "metadata": {
    "collapsed": true,
    "jupyter": {
     "outputs_hidden": true
    },
    "tags": []
   },
   "outputs": [
    {
     "name": "stdout",
     "output_type": "stream",
     "text": [
      "Pruned Accuracy for Validation\n",
      "\tFor standard data : [88.61123396727112, 88.61123396727112, 89.16408668730651, 89.20831490490933, 89.4515701017249, 89.16408668730651, 89.89385227775321, 90.24767801857585, 90.07076514816453, 90.51304732419284, 90.84475895621406, 91.0216718266254, 91.15435647943387, 91.15435647943387, 91.17647058823529]\n"
     ]
    },
    {
     "data": {
      "image/png": "[encoded data removed]",
      "text/plain": [
       "<Figure size 432x288 with 1 Axes>"
      ]
     },
     "metadata": {
      "needs_background": "light"
     },
     "output_type": "display_data"
    },
    {
     "name": "stdout",
     "output_type": "stream",
     "text": [
      "\tFor OHE data      : [88.61123396727112, 88.61123396727112, 89.16408668730651, 89.27465723131358, 89.25254312251217, 89.0092879256966, 89.29677134011499, 89.47368421052632, 90.0265369305617, 89.69482529854047, 89.4515701017249, 89.80539584254754, 89.91596638655462, 89.98230871295887, 90.13710747456878, 90.22556390977444, 90.0265369305617, 90.24767801857585, 89.91596638655462, 90.20344980097302, 90.35824856258293, 90.40247678018576, 90.55727554179566, 90.49093321539142, 90.62361786819991, 90.6015037593985, 90.66784608580274, 90.57938965059708, 90.6015037593985, 90.62361786819991, 90.64573197700133, 90.64573197700133, 90.64573197700133]\n"
     ]
    },
    {
     "data": {
      "image/png": "[encoded data removed]",
      "text/plain": [
       "<Figure size 432x288 with 1 Axes>"
      ]
     },
     "metadata": {
      "needs_background": "light"
     },
     "output_type": "display_data"
    }
   ],
   "source": [
    "# print('Pruned Accuracy for Validation')\n",
    "# _, std_pruned_vali_acc = d_tree.predict(std_tree_root, std_vali_data[:], consider_pruning=True)\n",
    "# print('\\tFor standard data :',std_pruned_vali_acc)\n",
    "\n",
    "# fig = plt.figure()\n",
    "# plt.plot(std_pruned_vali_acc, '-g', label = 'validation acc')\n",
    "# plt.plot(std_pruned_test_acc, '-r', label = 'test acc')\n",
    "# plt.plot(std_pruned_train_acc, '-b', label = 'train acc')\n",
    "# plt.title(\"Non Ohe Pruned Validation accuracy\")\n",
    "# plt.xlabel(\"Depth\")\n",
    "# plt.ylabel(\"Accuracies\")\n",
    "# plt.legend()\n",
    "# plt.show()\n",
    "# #fig.savefig(\"Non_ohe_pruned_validation_accuracy.png\")\n",
    "\n",
    "# _, ohe_pruned_vali_acc = d_tree.predict(ohe_tree_root, ohe_vali_data[:], consider_pruning=True)\n",
    "# print('\\tFor OHE data      :',ohe_pruned_vali_acc)\n",
    "\n",
    "# fig = plt.figure()\n",
    "# plt.plot(ohe_pruned_vali_acc, '-g', label = 'validation acc')\n",
    "# plt.plot(ohe_pruned_test_acc, '-r', label = 'test acc')\n",
    "# plt.plot(ohe_pruned_train_acc, '-b', label = 'train acc')\n",
    "# plt.title(\"Ohe Pruned Validation accuracy\")\n",
    "# plt.xlabel(\"Depth\")\n",
    "# plt.ylabel(\"Accuracies\")\n",
    "# plt.legend()\n",
    "# plt.show()\n",
    "# #fig.savefig(\"Ohe_pruned_validation_accuracy.png\")"
   ]
  },
  {
   "cell_type": "markdown",
   "id": "cf84a657-e4be-4bdc-b44e-d9ec410b886c",
   "metadata": {},
   "source": [
    "### For Part c--"
   ]
  },
  {
   "cell_type": "code",
   "execution_count": 38,
   "id": "a3354ad3-f5be-41c3-a73a-e47a51241641",
   "metadata": {},
   "outputs": [],
   "source": [
    "n_estimators = np.array(range(50, 451, 100))\n",
    "#print('n_ests            :',n_estimators)\n",
    "max_features = np.array(range(1, 11,2))/10\n",
    "#print('max features      :',max_features)\n",
    "min_samples_split = np.array(range(2,12,2))\n",
    "#print('min samples split :',min_samples_split)"
   ]
  },
  {
   "cell_type": "code",
   "execution_count": 44,
   "id": "ca3afc7c-649a-4ceb-b0bf-634f87c62946",
   "metadata": {
    "collapsed": true,
    "jupyter": {
     "outputs_hidden": true
    },
    "tags": []
   },
   "outputs": [
    {
     "name": "stdout",
     "output_type": "stream",
     "text": [
      "(36168, 94) (36168,)\n",
      "CPU times: user 35 s, sys: 26.6 ms, total: 35 s\n",
      "Wall time: 35 s\n"
     ]
    },
    {
     "data": {
      "text/plain": [
       "RandomForestClassifier(max_depth=50, max_features=0.5, min_samples_split=6,\n",
       "                       n_estimators=250)"
      ]
     },
     "execution_count": 44,
     "metadata": {},
     "output_type": "execute_result"
    }
   ],
   "source": [
    "# %%time\n",
    "# # also try with gini (using entropy)\n",
    "# d = 50\n",
    "# n_est = 250\n",
    "# min_s_s = 6\n",
    "# max_f = 0.5\n",
    "# rfc = RandomForestClassifier(n_estimators=n_est ,max_depth=d,min_samples_split=min_s_s, max_features = max_f)\n",
    "# cols_not_y = ohe_train_data.columns[:-1]\n",
    "# # print(cols_not_y)\n",
    "# X = ohe_train_data.loc[:,cols_not_y]\n",
    "# Y = ohe_train_data['y'] == 'yes'\n",
    "# print(X.shape, Y.shape)\n",
    "# rfc.fit(X,Y)"
   ]
  },
  {
   "cell_type": "code",
   "execution_count": 45,
   "id": "f2fcef57-4826-4d53-b933-721cd478655a",
   "metadata": {
    "tags": []
   },
   "outputs": [
    {
     "name": "stdout",
     "output_type": "stream",
     "text": [
      "0.9082264484741265\n"
     ]
    }
   ],
   "source": [
    "# Y = ohe_vali_data['y'] == 'yes'\n",
    "# predict = rfc.predict(ohe_vali_data.loc[:, cols_not_y])\n",
    "# acc = accuracy_score(np.array(Y), np.array(predict, dtype=int))\n",
    "# print(acc)"
   ]
  },
  {
   "cell_type": "code",
   "execution_count": 40,
   "id": "bb219de3-b9c5-4204-9c2d-5308db724a3a",
   "metadata": {},
   "outputs": [],
   "source": [
    "def part_c_random_forest():\n",
    "    cols_not_y = ohe_train_data.columns[:-1]\n",
    "    X_train = ohe_train_data.loc[:, cols_not_y]\n",
    "    Y_train = ohe_train_data['y'] == 'yes'\n",
    "    X_test  = ohe_test_data.loc[:, cols_not_y]\n",
    "    Y_test  = ohe_test_data['y'] == 'yes'\n",
    "    X_vali  = ohe_vali_data.loc[:, cols_not_y]\n",
    "    Y_vali  = ohe_vali_data['y'] == 'yes'\n",
    "    \n",
    "    d = 50\n",
    "    n_estimators = np.array(range(50, 451, 100))\n",
    "    max_features = np.array(range(1, 11,2))/10\n",
    "    min_samples_split = np.array(range(2,12,2))\n",
    "    # print('n_ests            :',n_estimators)\n",
    "    # print('max features      :',max_features)\n",
    "    # print('min samples split :',min_samples_split)\n",
    "    best_n_est    = 150\n",
    "    best_max_f    = 0.5\n",
    "    best_min_s_s  = 10\n",
    "    best_accuracy = 0\n",
    "    best_model    = None\n",
    "    \n",
    "    itr = 0\n",
    "    for n_est in tqdm_notebook(n_estimators, total = len(n_estimators), unit = 'n_est'):\n",
    "        for max_f in tqdm_notebook(max_features, total = len(max_features), unit = 'max_f'):\n",
    "            for min_s_s in tqdm_notebook(min_samples_split, total = len(min_samples_split), unit = 'min_s_s'):\n",
    "                rfc = RandomForestClassifier(n_estimators=n_est ,max_depth=d,min_samples_split=min_s_s, max_features = max_f, random_state=0)\n",
    "                rfc.fit(X_train,Y_train)\n",
    "                \n",
    "                #predict_train = rfc.predict(X_train)\n",
    "                #predict_test  = rfc.predict(X_test)\n",
    "                predict_vali  = rfc.predict(X_vali)\n",
    "                \n",
    "                #train_acc = accuracy_score(np.array(Y_train), np.array(predict_train, dtype=int))\n",
    "                #test_acc  = accuracy_score(np.array(Y_test) , np.array(predict_test , dtype=int))\n",
    "                vali_acc  = accuracy_score(np.array(Y_vali) , np.array(predict_vali , dtype=int))\n",
    "                \n",
    "                if best_accuracy < vali_acc:\n",
    "                    best_model = rfc\n",
    "                    best_accuracy = vali_acc\n",
    "                    best_n_est = n_est\n",
    "                    best_max_f = max_f\n",
    "                    best_min_s_s = min_s_s\n",
    "                    \n",
    "    predict_train = best_model.predict(X_train)\n",
    "    predict_test  = best_model.predict(X_test)\n",
    "    predict_vali  = best_model.predict(X_vali)\n",
    "\n",
    "    train_acc = accuracy_score(np.array(Y_train), np.array(predict_train, dtype=int))\n",
    "    test_acc  = accuracy_score(np.array(Y_test) , np.array(predict_test , dtype=int))\n",
    "    vali_acc  = accuracy_score(np.array(Y_vali) , np.array(predict_vali , dtype=int))\n",
    "    \n",
    "    print('Best n_estimator     :', best_n_est)\n",
    "    print('Best max_feature     :', best_max_f)\n",
    "    print('Best min_sample_split:', best_min_s_s)\n",
    "    print()\n",
    "    print('Train Accuracy     :', train_acc)\n",
    "    print('Test Accuracy      :', test_acc)\n",
    "    print('Validation Accuracy:', vali_acc)\n",
    "    \n",
    "    return best_model\n",
    "    "
   ]
  },
  {
   "cell_type": "code",
   "execution_count": 41,
   "id": "2c500d30-25dd-429c-bc8b-bcae3d2d7e0d",
   "metadata": {
    "collapsed": true,
    "jupyter": {
     "outputs_hidden": true
    },
    "tags": []
   },
   "outputs": [
    {
     "data": {
      "application/vnd.jupyter.widget-view+json": {
       "model_id": "eb519711f6ce4da0b48da479d50cdd36",
       "version_major": 2,
       "version_minor": 0
      },
      "text/plain": [
       "  0%|          | 0/5 [00:00<?, ?n_est/s]"
      ]
     },
     "metadata": {},
     "output_type": "display_data"
    },
    {
     "data": {
      "application/vnd.jupyter.widget-view+json": {
       "model_id": "326138f9819745cf9b49da8c433ecf52",
       "version_major": 2,
       "version_minor": 0
      },
      "text/plain": [
       "  0%|          | 0/5 [00:00<?, ?max_f/s]"
      ]
     },
     "metadata": {},
     "output_type": "display_data"
    },
    {
     "data": {
      "application/vnd.jupyter.widget-view+json": {
       "model_id": "34526ebdb7a54eee9f3b56357a44eda0",
       "version_major": 2,
       "version_minor": 0
      },
      "text/plain": [
       "  0%|          | 0/5 [00:00<?, ?min_s_s/s]"
      ]
     },
     "metadata": {},
     "output_type": "display_data"
    },
    {
     "data": {
      "application/vnd.jupyter.widget-view+json": {
       "model_id": "43b0fa4c6940490c86efaf0d5d94248b",
       "version_major": 2,
       "version_minor": 0
      },
      "text/plain": [
       "  0%|          | 0/5 [00:00<?, ?min_s_s/s]"
      ]
     },
     "metadata": {},
     "output_type": "display_data"
    },
    {
     "ename": "KeyboardInterrupt",
     "evalue": "",
     "output_type": "error",
     "traceback": [
      "\u001b[0;31m---------------------------------------------------------------------------\u001b[0m",
      "\u001b[0;31mKeyboardInterrupt\u001b[0m                         Traceback (most recent call last)",
      "\u001b[0;32m/tmp/ipykernel_18482/1427111561.py\u001b[0m in \u001b[0;36m<module>\u001b[0;34m\u001b[0m\n\u001b[1;32m      1\u001b[0m \u001b[0mpart\u001b[0m \u001b[0;34m=\u001b[0m \u001b[0;34m'c'\u001b[0m\u001b[0;34m\u001b[0m\u001b[0;34m\u001b[0m\u001b[0m\n\u001b[1;32m      2\u001b[0m \u001b[0;32mif\u001b[0m \u001b[0mpart\u001b[0m \u001b[0;34m==\u001b[0m \u001b[0;34m'c'\u001b[0m\u001b[0;34m:\u001b[0m\u001b[0;34m\u001b[0m\u001b[0;34m\u001b[0m\u001b[0m\n\u001b[0;32m----> 3\u001b[0;31m     \u001b[0mrfc\u001b[0m \u001b[0;34m=\u001b[0m \u001b[0mpart_c_random_forest\u001b[0m\u001b[0;34m(\u001b[0m\u001b[0;34m)\u001b[0m\u001b[0;34m\u001b[0m\u001b[0;34m\u001b[0m\u001b[0m\n\u001b[0m",
      "\u001b[0;32m/tmp/ipykernel_18482/1265518626.py\u001b[0m in \u001b[0;36mpart_c_random_forest\u001b[0;34m()\u001b[0m\n\u001b[1;32m     26\u001b[0m             \u001b[0;32mfor\u001b[0m \u001b[0mmin_s_s\u001b[0m \u001b[0;32min\u001b[0m \u001b[0mtqdm_notebook\u001b[0m\u001b[0;34m(\u001b[0m\u001b[0mmin_samples_split\u001b[0m\u001b[0;34m,\u001b[0m \u001b[0mtotal\u001b[0m \u001b[0;34m=\u001b[0m \u001b[0mlen\u001b[0m\u001b[0;34m(\u001b[0m\u001b[0mmin_samples_split\u001b[0m\u001b[0;34m)\u001b[0m\u001b[0;34m,\u001b[0m \u001b[0munit\u001b[0m \u001b[0;34m=\u001b[0m \u001b[0;34m'min_s_s'\u001b[0m\u001b[0;34m)\u001b[0m\u001b[0;34m:\u001b[0m\u001b[0;34m\u001b[0m\u001b[0;34m\u001b[0m\u001b[0m\n\u001b[1;32m     27\u001b[0m                 \u001b[0mrfc\u001b[0m \u001b[0;34m=\u001b[0m \u001b[0mRandomForestClassifier\u001b[0m\u001b[0;34m(\u001b[0m\u001b[0mn_estimators\u001b[0m\u001b[0;34m=\u001b[0m\u001b[0mn_est\u001b[0m \u001b[0;34m,\u001b[0m\u001b[0mmax_depth\u001b[0m\u001b[0;34m=\u001b[0m\u001b[0md\u001b[0m\u001b[0;34m,\u001b[0m\u001b[0mmin_samples_split\u001b[0m\u001b[0;34m=\u001b[0m\u001b[0mmin_s_s\u001b[0m\u001b[0;34m,\u001b[0m \u001b[0mmax_features\u001b[0m \u001b[0;34m=\u001b[0m \u001b[0mmax_f\u001b[0m\u001b[0;34m,\u001b[0m \u001b[0mrandom_state\u001b[0m\u001b[0;34m=\u001b[0m\u001b[0;36m0\u001b[0m\u001b[0;34m)\u001b[0m\u001b[0;34m\u001b[0m\u001b[0;34m\u001b[0m\u001b[0m\n\u001b[0;32m---> 28\u001b[0;31m                 \u001b[0mrfc\u001b[0m\u001b[0;34m.\u001b[0m\u001b[0mfit\u001b[0m\u001b[0;34m(\u001b[0m\u001b[0mX_train\u001b[0m\u001b[0;34m,\u001b[0m\u001b[0mY_train\u001b[0m\u001b[0;34m)\u001b[0m\u001b[0;34m\u001b[0m\u001b[0;34m\u001b[0m\u001b[0m\n\u001b[0m\u001b[1;32m     29\u001b[0m \u001b[0;34m\u001b[0m\u001b[0m\n\u001b[1;32m     30\u001b[0m                 \u001b[0;31m#predict_train = rfc.predict(X_train)\u001b[0m\u001b[0;34m\u001b[0m\u001b[0;34m\u001b[0m\u001b[0;34m\u001b[0m\u001b[0m\n",
      "\u001b[0;32m~/anaconda3/lib/python3.8/site-packages/sklearn/ensemble/_forest.py\u001b[0m in \u001b[0;36mfit\u001b[0;34m(self, X, y, sample_weight)\u001b[0m\n\u001b[1;32m    385\u001b[0m             \u001b[0;31m# parallel_backend contexts set at a higher level,\u001b[0m\u001b[0;34m\u001b[0m\u001b[0;34m\u001b[0m\u001b[0;34m\u001b[0m\u001b[0m\n\u001b[1;32m    386\u001b[0m             \u001b[0;31m# since correctness does not rely on using threads.\u001b[0m\u001b[0;34m\u001b[0m\u001b[0;34m\u001b[0m\u001b[0;34m\u001b[0m\u001b[0m\n\u001b[0;32m--> 387\u001b[0;31m             trees = Parallel(n_jobs=self.n_jobs, verbose=self.verbose,\n\u001b[0m\u001b[1;32m    388\u001b[0m                              \u001b[0;34m**\u001b[0m\u001b[0m_joblib_parallel_args\u001b[0m\u001b[0;34m(\u001b[0m\u001b[0mprefer\u001b[0m\u001b[0;34m=\u001b[0m\u001b[0;34m'threads'\u001b[0m\u001b[0;34m)\u001b[0m\u001b[0;34m)\u001b[0m\u001b[0;34m(\u001b[0m\u001b[0;34m\u001b[0m\u001b[0;34m\u001b[0m\u001b[0m\n\u001b[1;32m    389\u001b[0m                 delayed(_parallel_build_trees)(\n",
      "\u001b[0;32m~/anaconda3/lib/python3.8/site-packages/joblib/parallel.py\u001b[0m in \u001b[0;36m__call__\u001b[0;34m(self, iterable)\u001b[0m\n\u001b[1;32m   1042\u001b[0m                 \u001b[0mself\u001b[0m\u001b[0;34m.\u001b[0m\u001b[0m_iterating\u001b[0m \u001b[0;34m=\u001b[0m \u001b[0mself\u001b[0m\u001b[0;34m.\u001b[0m\u001b[0m_original_iterator\u001b[0m \u001b[0;32mis\u001b[0m \u001b[0;32mnot\u001b[0m \u001b[0;32mNone\u001b[0m\u001b[0;34m\u001b[0m\u001b[0;34m\u001b[0m\u001b[0m\n\u001b[1;32m   1043\u001b[0m \u001b[0;34m\u001b[0m\u001b[0m\n\u001b[0;32m-> 1044\u001b[0;31m             \u001b[0;32mwhile\u001b[0m \u001b[0mself\u001b[0m\u001b[0;34m.\u001b[0m\u001b[0mdispatch_one_batch\u001b[0m\u001b[0;34m(\u001b[0m\u001b[0miterator\u001b[0m\u001b[0;34m)\u001b[0m\u001b[0;34m:\u001b[0m\u001b[0;34m\u001b[0m\u001b[0;34m\u001b[0m\u001b[0m\n\u001b[0m\u001b[1;32m   1045\u001b[0m                 \u001b[0;32mpass\u001b[0m\u001b[0;34m\u001b[0m\u001b[0;34m\u001b[0m\u001b[0m\n\u001b[1;32m   1046\u001b[0m \u001b[0;34m\u001b[0m\u001b[0m\n",
      "\u001b[0;32m~/anaconda3/lib/python3.8/site-packages/joblib/parallel.py\u001b[0m in \u001b[0;36mdispatch_one_batch\u001b[0;34m(self, iterator)\u001b[0m\n\u001b[1;32m    857\u001b[0m                 \u001b[0;32mreturn\u001b[0m \u001b[0;32mFalse\u001b[0m\u001b[0;34m\u001b[0m\u001b[0;34m\u001b[0m\u001b[0m\n\u001b[1;32m    858\u001b[0m             \u001b[0;32melse\u001b[0m\u001b[0;34m:\u001b[0m\u001b[0;34m\u001b[0m\u001b[0;34m\u001b[0m\u001b[0m\n\u001b[0;32m--> 859\u001b[0;31m                 \u001b[0mself\u001b[0m\u001b[0;34m.\u001b[0m\u001b[0m_dispatch\u001b[0m\u001b[0;34m(\u001b[0m\u001b[0mtasks\u001b[0m\u001b[0;34m)\u001b[0m\u001b[0;34m\u001b[0m\u001b[0;34m\u001b[0m\u001b[0m\n\u001b[0m\u001b[1;32m    860\u001b[0m                 \u001b[0;32mreturn\u001b[0m \u001b[0;32mTrue\u001b[0m\u001b[0;34m\u001b[0m\u001b[0;34m\u001b[0m\u001b[0m\n\u001b[1;32m    861\u001b[0m \u001b[0;34m\u001b[0m\u001b[0m\n",
      "\u001b[0;32m~/anaconda3/lib/python3.8/site-packages/joblib/parallel.py\u001b[0m in \u001b[0;36m_dispatch\u001b[0;34m(self, batch)\u001b[0m\n\u001b[1;32m    775\u001b[0m         \u001b[0;32mwith\u001b[0m \u001b[0mself\u001b[0m\u001b[0;34m.\u001b[0m\u001b[0m_lock\u001b[0m\u001b[0;34m:\u001b[0m\u001b[0;34m\u001b[0m\u001b[0;34m\u001b[0m\u001b[0m\n\u001b[1;32m    776\u001b[0m             \u001b[0mjob_idx\u001b[0m \u001b[0;34m=\u001b[0m \u001b[0mlen\u001b[0m\u001b[0;34m(\u001b[0m\u001b[0mself\u001b[0m\u001b[0;34m.\u001b[0m\u001b[0m_jobs\u001b[0m\u001b[0;34m)\u001b[0m\u001b[0;34m\u001b[0m\u001b[0;34m\u001b[0m\u001b[0m\n\u001b[0;32m--> 777\u001b[0;31m             \u001b[0mjob\u001b[0m \u001b[0;34m=\u001b[0m \u001b[0mself\u001b[0m\u001b[0;34m.\u001b[0m\u001b[0m_backend\u001b[0m\u001b[0;34m.\u001b[0m\u001b[0mapply_async\u001b[0m\u001b[0;34m(\u001b[0m\u001b[0mbatch\u001b[0m\u001b[0;34m,\u001b[0m \u001b[0mcallback\u001b[0m\u001b[0;34m=\u001b[0m\u001b[0mcb\u001b[0m\u001b[0;34m)\u001b[0m\u001b[0;34m\u001b[0m\u001b[0;34m\u001b[0m\u001b[0m\n\u001b[0m\u001b[1;32m    778\u001b[0m             \u001b[0;31m# A job can complete so quickly than its callback is\u001b[0m\u001b[0;34m\u001b[0m\u001b[0;34m\u001b[0m\u001b[0;34m\u001b[0m\u001b[0m\n\u001b[1;32m    779\u001b[0m             \u001b[0;31m# called before we get here, causing self._jobs to\u001b[0m\u001b[0;34m\u001b[0m\u001b[0;34m\u001b[0m\u001b[0;34m\u001b[0m\u001b[0m\n",
      "\u001b[0;32m~/anaconda3/lib/python3.8/site-packages/joblib/_parallel_backends.py\u001b[0m in \u001b[0;36mapply_async\u001b[0;34m(self, func, callback)\u001b[0m\n\u001b[1;32m    206\u001b[0m     \u001b[0;32mdef\u001b[0m \u001b[0mapply_async\u001b[0m\u001b[0;34m(\u001b[0m\u001b[0mself\u001b[0m\u001b[0;34m,\u001b[0m \u001b[0mfunc\u001b[0m\u001b[0;34m,\u001b[0m \u001b[0mcallback\u001b[0m\u001b[0;34m=\u001b[0m\u001b[0;32mNone\u001b[0m\u001b[0;34m)\u001b[0m\u001b[0;34m:\u001b[0m\u001b[0;34m\u001b[0m\u001b[0;34m\u001b[0m\u001b[0m\n\u001b[1;32m    207\u001b[0m         \u001b[0;34m\"\"\"Schedule a func to be run\"\"\"\u001b[0m\u001b[0;34m\u001b[0m\u001b[0;34m\u001b[0m\u001b[0m\n\u001b[0;32m--> 208\u001b[0;31m         \u001b[0mresult\u001b[0m \u001b[0;34m=\u001b[0m \u001b[0mImmediateResult\u001b[0m\u001b[0;34m(\u001b[0m\u001b[0mfunc\u001b[0m\u001b[0;34m)\u001b[0m\u001b[0;34m\u001b[0m\u001b[0;34m\u001b[0m\u001b[0m\n\u001b[0m\u001b[1;32m    209\u001b[0m         \u001b[0;32mif\u001b[0m \u001b[0mcallback\u001b[0m\u001b[0;34m:\u001b[0m\u001b[0;34m\u001b[0m\u001b[0;34m\u001b[0m\u001b[0m\n\u001b[1;32m    210\u001b[0m             \u001b[0mcallback\u001b[0m\u001b[0;34m(\u001b[0m\u001b[0mresult\u001b[0m\u001b[0;34m)\u001b[0m\u001b[0;34m\u001b[0m\u001b[0;34m\u001b[0m\u001b[0m\n",
      "\u001b[0;32m~/anaconda3/lib/python3.8/site-packages/joblib/_parallel_backends.py\u001b[0m in \u001b[0;36m__init__\u001b[0;34m(self, batch)\u001b[0m\n\u001b[1;32m    570\u001b[0m         \u001b[0;31m# Don't delay the application, to avoid keeping the input\u001b[0m\u001b[0;34m\u001b[0m\u001b[0;34m\u001b[0m\u001b[0;34m\u001b[0m\u001b[0m\n\u001b[1;32m    571\u001b[0m         \u001b[0;31m# arguments in memory\u001b[0m\u001b[0;34m\u001b[0m\u001b[0;34m\u001b[0m\u001b[0;34m\u001b[0m\u001b[0m\n\u001b[0;32m--> 572\u001b[0;31m         \u001b[0mself\u001b[0m\u001b[0;34m.\u001b[0m\u001b[0mresults\u001b[0m \u001b[0;34m=\u001b[0m \u001b[0mbatch\u001b[0m\u001b[0;34m(\u001b[0m\u001b[0;34m)\u001b[0m\u001b[0;34m\u001b[0m\u001b[0;34m\u001b[0m\u001b[0m\n\u001b[0m\u001b[1;32m    573\u001b[0m \u001b[0;34m\u001b[0m\u001b[0m\n\u001b[1;32m    574\u001b[0m     \u001b[0;32mdef\u001b[0m \u001b[0mget\u001b[0m\u001b[0;34m(\u001b[0m\u001b[0mself\u001b[0m\u001b[0;34m)\u001b[0m\u001b[0;34m:\u001b[0m\u001b[0;34m\u001b[0m\u001b[0;34m\u001b[0m\u001b[0m\n",
      "\u001b[0;32m~/anaconda3/lib/python3.8/site-packages/joblib/parallel.py\u001b[0m in \u001b[0;36m__call__\u001b[0;34m(self)\u001b[0m\n\u001b[1;32m    260\u001b[0m         \u001b[0;31m# change the default number of processes to -1\u001b[0m\u001b[0;34m\u001b[0m\u001b[0;34m\u001b[0m\u001b[0;34m\u001b[0m\u001b[0m\n\u001b[1;32m    261\u001b[0m         \u001b[0;32mwith\u001b[0m \u001b[0mparallel_backend\u001b[0m\u001b[0;34m(\u001b[0m\u001b[0mself\u001b[0m\u001b[0;34m.\u001b[0m\u001b[0m_backend\u001b[0m\u001b[0;34m,\u001b[0m \u001b[0mn_jobs\u001b[0m\u001b[0;34m=\u001b[0m\u001b[0mself\u001b[0m\u001b[0;34m.\u001b[0m\u001b[0m_n_jobs\u001b[0m\u001b[0;34m)\u001b[0m\u001b[0;34m:\u001b[0m\u001b[0;34m\u001b[0m\u001b[0;34m\u001b[0m\u001b[0m\n\u001b[0;32m--> 262\u001b[0;31m             return [func(*args, **kwargs)\n\u001b[0m\u001b[1;32m    263\u001b[0m                     for func, args, kwargs in self.items]\n\u001b[1;32m    264\u001b[0m \u001b[0;34m\u001b[0m\u001b[0m\n",
      "\u001b[0;32m~/anaconda3/lib/python3.8/site-packages/joblib/parallel.py\u001b[0m in \u001b[0;36m<listcomp>\u001b[0;34m(.0)\u001b[0m\n\u001b[1;32m    260\u001b[0m         \u001b[0;31m# change the default number of processes to -1\u001b[0m\u001b[0;34m\u001b[0m\u001b[0;34m\u001b[0m\u001b[0;34m\u001b[0m\u001b[0m\n\u001b[1;32m    261\u001b[0m         \u001b[0;32mwith\u001b[0m \u001b[0mparallel_backend\u001b[0m\u001b[0;34m(\u001b[0m\u001b[0mself\u001b[0m\u001b[0;34m.\u001b[0m\u001b[0m_backend\u001b[0m\u001b[0;34m,\u001b[0m \u001b[0mn_jobs\u001b[0m\u001b[0;34m=\u001b[0m\u001b[0mself\u001b[0m\u001b[0;34m.\u001b[0m\u001b[0m_n_jobs\u001b[0m\u001b[0;34m)\u001b[0m\u001b[0;34m:\u001b[0m\u001b[0;34m\u001b[0m\u001b[0;34m\u001b[0m\u001b[0m\n\u001b[0;32m--> 262\u001b[0;31m             return [func(*args, **kwargs)\n\u001b[0m\u001b[1;32m    263\u001b[0m                     for func, args, kwargs in self.items]\n\u001b[1;32m    264\u001b[0m \u001b[0;34m\u001b[0m\u001b[0m\n",
      "\u001b[0;32m~/anaconda3/lib/python3.8/site-packages/sklearn/utils/fixes.py\u001b[0m in \u001b[0;36m__call__\u001b[0;34m(self, *args, **kwargs)\u001b[0m\n\u001b[1;32m    220\u001b[0m     \u001b[0;32mdef\u001b[0m \u001b[0m__call__\u001b[0m\u001b[0;34m(\u001b[0m\u001b[0mself\u001b[0m\u001b[0;34m,\u001b[0m \u001b[0;34m*\u001b[0m\u001b[0margs\u001b[0m\u001b[0;34m,\u001b[0m \u001b[0;34m**\u001b[0m\u001b[0mkwargs\u001b[0m\u001b[0;34m)\u001b[0m\u001b[0;34m:\u001b[0m\u001b[0;34m\u001b[0m\u001b[0;34m\u001b[0m\u001b[0m\n\u001b[1;32m    221\u001b[0m         \u001b[0;32mwith\u001b[0m \u001b[0mconfig_context\u001b[0m\u001b[0;34m(\u001b[0m\u001b[0;34m**\u001b[0m\u001b[0mself\u001b[0m\u001b[0;34m.\u001b[0m\u001b[0mconfig\u001b[0m\u001b[0;34m)\u001b[0m\u001b[0;34m:\u001b[0m\u001b[0;34m\u001b[0m\u001b[0;34m\u001b[0m\u001b[0m\n\u001b[0;32m--> 222\u001b[0;31m             \u001b[0;32mreturn\u001b[0m \u001b[0mself\u001b[0m\u001b[0;34m.\u001b[0m\u001b[0mfunction\u001b[0m\u001b[0;34m(\u001b[0m\u001b[0;34m*\u001b[0m\u001b[0margs\u001b[0m\u001b[0;34m,\u001b[0m \u001b[0;34m**\u001b[0m\u001b[0mkwargs\u001b[0m\u001b[0;34m)\u001b[0m\u001b[0;34m\u001b[0m\u001b[0;34m\u001b[0m\u001b[0m\n\u001b[0m",
      "\u001b[0;32m~/anaconda3/lib/python3.8/site-packages/sklearn/ensemble/_forest.py\u001b[0m in \u001b[0;36m_parallel_build_trees\u001b[0;34m(tree, forest, X, y, sample_weight, tree_idx, n_trees, verbose, class_weight, n_samples_bootstrap)\u001b[0m\n\u001b[1;32m    167\u001b[0m                                                         indices=indices)\n\u001b[1;32m    168\u001b[0m \u001b[0;34m\u001b[0m\u001b[0m\n\u001b[0;32m--> 169\u001b[0;31m         \u001b[0mtree\u001b[0m\u001b[0;34m.\u001b[0m\u001b[0mfit\u001b[0m\u001b[0;34m(\u001b[0m\u001b[0mX\u001b[0m\u001b[0;34m,\u001b[0m \u001b[0my\u001b[0m\u001b[0;34m,\u001b[0m \u001b[0msample_weight\u001b[0m\u001b[0;34m=\u001b[0m\u001b[0mcurr_sample_weight\u001b[0m\u001b[0;34m,\u001b[0m \u001b[0mcheck_input\u001b[0m\u001b[0;34m=\u001b[0m\u001b[0;32mFalse\u001b[0m\u001b[0;34m)\u001b[0m\u001b[0;34m\u001b[0m\u001b[0;34m\u001b[0m\u001b[0m\n\u001b[0m\u001b[1;32m    170\u001b[0m     \u001b[0;32melse\u001b[0m\u001b[0;34m:\u001b[0m\u001b[0;34m\u001b[0m\u001b[0;34m\u001b[0m\u001b[0m\n\u001b[1;32m    171\u001b[0m         \u001b[0mtree\u001b[0m\u001b[0;34m.\u001b[0m\u001b[0mfit\u001b[0m\u001b[0;34m(\u001b[0m\u001b[0mX\u001b[0m\u001b[0;34m,\u001b[0m \u001b[0my\u001b[0m\u001b[0;34m,\u001b[0m \u001b[0msample_weight\u001b[0m\u001b[0;34m=\u001b[0m\u001b[0msample_weight\u001b[0m\u001b[0;34m,\u001b[0m \u001b[0mcheck_input\u001b[0m\u001b[0;34m=\u001b[0m\u001b[0;32mFalse\u001b[0m\u001b[0;34m)\u001b[0m\u001b[0;34m\u001b[0m\u001b[0;34m\u001b[0m\u001b[0m\n",
      "\u001b[0;32m~/anaconda3/lib/python3.8/site-packages/sklearn/tree/_classes.py\u001b[0m in \u001b[0;36mfit\u001b[0;34m(self, X, y, sample_weight, check_input, X_idx_sorted)\u001b[0m\n\u001b[1;32m    901\u001b[0m         \"\"\"\n\u001b[1;32m    902\u001b[0m \u001b[0;34m\u001b[0m\u001b[0m\n\u001b[0;32m--> 903\u001b[0;31m         super().fit(\n\u001b[0m\u001b[1;32m    904\u001b[0m             \u001b[0mX\u001b[0m\u001b[0;34m,\u001b[0m \u001b[0my\u001b[0m\u001b[0;34m,\u001b[0m\u001b[0;34m\u001b[0m\u001b[0;34m\u001b[0m\u001b[0m\n\u001b[1;32m    905\u001b[0m             \u001b[0msample_weight\u001b[0m\u001b[0;34m=\u001b[0m\u001b[0msample_weight\u001b[0m\u001b[0;34m,\u001b[0m\u001b[0;34m\u001b[0m\u001b[0;34m\u001b[0m\u001b[0m\n",
      "\u001b[0;32m~/anaconda3/lib/python3.8/site-packages/sklearn/tree/_classes.py\u001b[0m in \u001b[0;36mfit\u001b[0;34m(self, X, y, sample_weight, check_input, X_idx_sorted)\u001b[0m\n\u001b[1;32m    392\u001b[0m                                            min_impurity_split)\n\u001b[1;32m    393\u001b[0m \u001b[0;34m\u001b[0m\u001b[0m\n\u001b[0;32m--> 394\u001b[0;31m         \u001b[0mbuilder\u001b[0m\u001b[0;34m.\u001b[0m\u001b[0mbuild\u001b[0m\u001b[0;34m(\u001b[0m\u001b[0mself\u001b[0m\u001b[0;34m.\u001b[0m\u001b[0mtree_\u001b[0m\u001b[0;34m,\u001b[0m \u001b[0mX\u001b[0m\u001b[0;34m,\u001b[0m \u001b[0my\u001b[0m\u001b[0;34m,\u001b[0m \u001b[0msample_weight\u001b[0m\u001b[0;34m)\u001b[0m\u001b[0;34m\u001b[0m\u001b[0;34m\u001b[0m\u001b[0m\n\u001b[0m\u001b[1;32m    395\u001b[0m \u001b[0;34m\u001b[0m\u001b[0m\n\u001b[1;32m    396\u001b[0m         \u001b[0;32mif\u001b[0m \u001b[0mself\u001b[0m\u001b[0;34m.\u001b[0m\u001b[0mn_outputs_\u001b[0m \u001b[0;34m==\u001b[0m \u001b[0;36m1\u001b[0m \u001b[0;32mand\u001b[0m \u001b[0mis_classifier\u001b[0m\u001b[0;34m(\u001b[0m\u001b[0mself\u001b[0m\u001b[0;34m)\u001b[0m\u001b[0;34m:\u001b[0m\u001b[0;34m\u001b[0m\u001b[0;34m\u001b[0m\u001b[0m\n",
      "\u001b[0;31mKeyboardInterrupt\u001b[0m: "
     ]
    }
   ],
   "source": [
    "part = 'c'\n",
    "if part == 'c':\n",
    "    rfc = part_c_random_forest()"
   ]
  },
  {
   "cell_type": "code",
   "execution_count": 42,
   "id": "5bf21aec-bcb6-4672-a4eb-b64c1c61bd31",
   "metadata": {},
   "outputs": [],
   "source": [
    "def part_d_param_senitivity(best_n_est=50, best_max_f = 0.3, best_min_s_s = 4):\n",
    "    d = 50\n",
    "    cols_not_y = ohe_train_data.columns[:-1]\n",
    "    X_train = ohe_train_data.loc[:, cols_not_y]\n",
    "    Y_train = ohe_train_data['y'] == 'yes'\n",
    "    X_test  = ohe_test_data.loc[:, cols_not_y]\n",
    "    Y_test  = ohe_test_data['y'] == 'yes'\n",
    "    X_vali  = ohe_vali_data.loc[:, cols_not_y]\n",
    "    Y_vali  = ohe_vali_data['y'] == 'yes'\n",
    "    \n",
    "    n_estimators = np.array(range(50, 451, 100))\n",
    "    max_features = np.array(range(1, 11,2))/10\n",
    "    min_samples_split = np.array(range(2,12,2))\n",
    "    \n",
    "    accuracy_for_n_est = []\n",
    "    for n_est in tqdm_notebook(n_estimators):\n",
    "        rfc = RandomForestClassifier(n_estimators=n_est ,max_depth=d,min_samples_split=best_min_s_s, max_features = best_max_f, random_state=0)\n",
    "        rfc.fit(X_train,Y_train)\n",
    "\n",
    "        #predict_train = rfc.predict(X_train)\n",
    "        #predict_test  = rfc.predict(X_test)\n",
    "        predict_vali  = rfc.predict(X_vali)\n",
    "\n",
    "        #train_acc = accuracy_score(np.array(Y_train), np.array(predict_train, dtype=int))\n",
    "        #test_acc  = accuracy_score(np.array(Y_test) , np.array(predict_test , dtype=int))\n",
    "        vali_acc  = accuracy_score(np.array(Y_vali) , np.array(predict_vali , dtype=int))\n",
    "        accuracy_for_n_est.append(vali_acc)\n",
    "        \n",
    "    fig = plt.figure()\n",
    "    plt.plot(n_estimators, accuracy_for_n_est)\n",
    "    plt.title(\"Sensitivity for n_estimators\")\n",
    "    plt.xlabel(\"n_estimators\")\n",
    "    plt.ylabel(\"Accuracies\")\n",
    "    #plt.show()\n",
    "    fig.savefig(\"Sensitivity_for_n_estimators.png\")\n",
    "    \n",
    "    accuracy_for_max_f = []\n",
    "    for max_f in tqdm_notebook(max_features):\n",
    "        rfc = RandomForestClassifier(n_estimators=best_n_est ,max_depth=d,min_samples_split=best_min_s_s, max_features = max_f, random_state=0)\n",
    "        rfc.fit(X_train,Y_train)\n",
    "\n",
    "        #predict_train = rfc.predict(X_train)\n",
    "        #predict_test  = rfc.predict(X_test)\n",
    "        predict_vali  = rfc.predict(X_vali)\n",
    "\n",
    "        #train_acc = accuracy_score(np.array(Y_train), np.array(predict_train, dtype=int))\n",
    "        #test_acc  = accuracy_score(np.array(Y_test) , np.array(predict_test , dtype=int))\n",
    "        vali_acc  = accuracy_score(np.array(Y_vali) , np.array(predict_vali , dtype=int))\n",
    "        accuracy_for_max_f.append(vali_acc)\n",
    "        \n",
    "    fig = plt.figure()\n",
    "    plt.plot(max_features, accuracy_for_max_f)\n",
    "    plt.title(\"Sensitivity for Max_features\")\n",
    "    plt.xlabel(\"max_features\")\n",
    "    plt.ylabel(\"Accuracies\")\n",
    "    plt.savefig('Sensitivity_for_Max_features.png')\n",
    "    #plt.show()\n",
    "    \n",
    "    accuracy_for_min_s_s = []\n",
    "    for min_s_s in tqdm_notebook(min_samples_split):\n",
    "        rfc = RandomForestClassifier(n_estimators=best_n_est ,max_depth=d,min_samples_split=min_s_s, max_features = best_max_f, random_state=0)\n",
    "        rfc.fit(X_train,Y_train)\n",
    "\n",
    "        #predict_train = rfc.predict(X_train)\n",
    "        #predict_test  = rfc.predict(X_test)\n",
    "        predict_vali  = rfc.predict(X_vali)\n",
    "\n",
    "        #train_acc = accuracy_score(np.array(Y_train), np.array(predict_train, dtype=int))\n",
    "        #test_acc  = accuracy_score(np.array(Y_test) , np.array(predict_test , dtype=int))\n",
    "        vali_acc  = accuracy_score(np.array(Y_vali) , np.array(predict_vali , dtype=int))\n",
    "        accuracy_for_min_s_s.append(vali_acc)\n",
    "    \n",
    "    fig = plt.figure()\n",
    "    plt.plot(min_samples_split, accuracy_for_min_s_s)\n",
    "    plt.title(\"Sensitivity for Min sample split\")\n",
    "    plt.xlabel(\"Min sample split\")\n",
    "    plt.ylabel(\"Accuracies\")\n",
    "    plt.savefig('Sensitivity_for_Min_sample_split.png')\n",
    "    #plt.show()\n",
    "    \n",
    "    return\n"
   ]
  },
  {
   "cell_type": "code",
   "execution_count": 43,
   "id": "71112e6c-16d4-4dae-8200-84185ff988d7",
   "metadata": {
    "collapsed": true,
    "jupyter": {
     "outputs_hidden": true
    },
    "tags": []
   },
   "outputs": [
    {
     "data": {
      "application/vnd.jupyter.widget-view+json": {
       "model_id": "c4fb96d26abb4c51b62addde04c3a067",
       "version_major": 2,
       "version_minor": 0
      },
      "text/plain": [
       "  0%|          | 0/5 [00:00<?, ?it/s]"
      ]
     },
     "metadata": {},
     "output_type": "display_data"
    },
    {
     "ename": "KeyboardInterrupt",
     "evalue": "",
     "output_type": "error",
     "traceback": [
      "\u001b[0;31m---------------------------------------------------------------------------\u001b[0m",
      "\u001b[0;31mKeyboardInterrupt\u001b[0m                         Traceback (most recent call last)",
      "\u001b[0;32m/tmp/ipykernel_18482/1110828389.py\u001b[0m in \u001b[0;36m<module>\u001b[0;34m\u001b[0m\n\u001b[1;32m      1\u001b[0m \u001b[0mpart\u001b[0m \u001b[0;34m=\u001b[0m \u001b[0;34m'd'\u001b[0m\u001b[0;34m\u001b[0m\u001b[0;34m\u001b[0m\u001b[0m\n\u001b[1;32m      2\u001b[0m \u001b[0;32mif\u001b[0m \u001b[0mpart\u001b[0m \u001b[0;34m==\u001b[0m \u001b[0;34m'd'\u001b[0m\u001b[0;34m:\u001b[0m\u001b[0;34m\u001b[0m\u001b[0;34m\u001b[0m\u001b[0m\n\u001b[0;32m----> 3\u001b[0;31m     \u001b[0mpart_d_param_senitivity\u001b[0m\u001b[0;34m(\u001b[0m\u001b[0;34m)\u001b[0m\u001b[0;34m\u001b[0m\u001b[0;34m\u001b[0m\u001b[0m\n\u001b[0m",
      "\u001b[0;32m/tmp/ipykernel_18482/2843113273.py\u001b[0m in \u001b[0;36mpart_d_param_senitivity\u001b[0;34m(best_n_est, best_max_f, best_min_s_s)\u001b[0m\n\u001b[1;32m     16\u001b[0m     \u001b[0;32mfor\u001b[0m \u001b[0mn_est\u001b[0m \u001b[0;32min\u001b[0m \u001b[0mtqdm_notebook\u001b[0m\u001b[0;34m(\u001b[0m\u001b[0mn_estimators\u001b[0m\u001b[0;34m)\u001b[0m\u001b[0;34m:\u001b[0m\u001b[0;34m\u001b[0m\u001b[0;34m\u001b[0m\u001b[0m\n\u001b[1;32m     17\u001b[0m         \u001b[0mrfc\u001b[0m \u001b[0;34m=\u001b[0m \u001b[0mRandomForestClassifier\u001b[0m\u001b[0;34m(\u001b[0m\u001b[0mn_estimators\u001b[0m\u001b[0;34m=\u001b[0m\u001b[0mn_est\u001b[0m \u001b[0;34m,\u001b[0m\u001b[0mmax_depth\u001b[0m\u001b[0;34m=\u001b[0m\u001b[0md\u001b[0m\u001b[0;34m,\u001b[0m\u001b[0mmin_samples_split\u001b[0m\u001b[0;34m=\u001b[0m\u001b[0mbest_min_s_s\u001b[0m\u001b[0;34m,\u001b[0m \u001b[0mmax_features\u001b[0m \u001b[0;34m=\u001b[0m \u001b[0mbest_max_f\u001b[0m\u001b[0;34m,\u001b[0m \u001b[0mrandom_state\u001b[0m\u001b[0;34m=\u001b[0m\u001b[0;36m0\u001b[0m\u001b[0;34m)\u001b[0m\u001b[0;34m\u001b[0m\u001b[0;34m\u001b[0m\u001b[0m\n\u001b[0;32m---> 18\u001b[0;31m         \u001b[0mrfc\u001b[0m\u001b[0;34m.\u001b[0m\u001b[0mfit\u001b[0m\u001b[0;34m(\u001b[0m\u001b[0mX_train\u001b[0m\u001b[0;34m,\u001b[0m\u001b[0mY_train\u001b[0m\u001b[0;34m)\u001b[0m\u001b[0;34m\u001b[0m\u001b[0;34m\u001b[0m\u001b[0m\n\u001b[0m\u001b[1;32m     19\u001b[0m \u001b[0;34m\u001b[0m\u001b[0m\n\u001b[1;32m     20\u001b[0m         \u001b[0;31m#predict_train = rfc.predict(X_train)\u001b[0m\u001b[0;34m\u001b[0m\u001b[0;34m\u001b[0m\u001b[0;34m\u001b[0m\u001b[0m\n",
      "\u001b[0;32m~/anaconda3/lib/python3.8/site-packages/sklearn/ensemble/_forest.py\u001b[0m in \u001b[0;36mfit\u001b[0;34m(self, X, y, sample_weight)\u001b[0m\n\u001b[1;32m    385\u001b[0m             \u001b[0;31m# parallel_backend contexts set at a higher level,\u001b[0m\u001b[0;34m\u001b[0m\u001b[0;34m\u001b[0m\u001b[0;34m\u001b[0m\u001b[0m\n\u001b[1;32m    386\u001b[0m             \u001b[0;31m# since correctness does not rely on using threads.\u001b[0m\u001b[0;34m\u001b[0m\u001b[0;34m\u001b[0m\u001b[0;34m\u001b[0m\u001b[0m\n\u001b[0;32m--> 387\u001b[0;31m             trees = Parallel(n_jobs=self.n_jobs, verbose=self.verbose,\n\u001b[0m\u001b[1;32m    388\u001b[0m                              \u001b[0;34m**\u001b[0m\u001b[0m_joblib_parallel_args\u001b[0m\u001b[0;34m(\u001b[0m\u001b[0mprefer\u001b[0m\u001b[0;34m=\u001b[0m\u001b[0;34m'threads'\u001b[0m\u001b[0;34m)\u001b[0m\u001b[0;34m)\u001b[0m\u001b[0;34m(\u001b[0m\u001b[0;34m\u001b[0m\u001b[0;34m\u001b[0m\u001b[0m\n\u001b[1;32m    389\u001b[0m                 delayed(_parallel_build_trees)(\n",
      "\u001b[0;32m~/anaconda3/lib/python3.8/site-packages/joblib/parallel.py\u001b[0m in \u001b[0;36m__call__\u001b[0;34m(self, iterable)\u001b[0m\n\u001b[1;32m   1042\u001b[0m                 \u001b[0mself\u001b[0m\u001b[0;34m.\u001b[0m\u001b[0m_iterating\u001b[0m \u001b[0;34m=\u001b[0m \u001b[0mself\u001b[0m\u001b[0;34m.\u001b[0m\u001b[0m_original_iterator\u001b[0m \u001b[0;32mis\u001b[0m \u001b[0;32mnot\u001b[0m \u001b[0;32mNone\u001b[0m\u001b[0;34m\u001b[0m\u001b[0;34m\u001b[0m\u001b[0m\n\u001b[1;32m   1043\u001b[0m \u001b[0;34m\u001b[0m\u001b[0m\n\u001b[0;32m-> 1044\u001b[0;31m             \u001b[0;32mwhile\u001b[0m \u001b[0mself\u001b[0m\u001b[0;34m.\u001b[0m\u001b[0mdispatch_one_batch\u001b[0m\u001b[0;34m(\u001b[0m\u001b[0miterator\u001b[0m\u001b[0;34m)\u001b[0m\u001b[0;34m:\u001b[0m\u001b[0;34m\u001b[0m\u001b[0;34m\u001b[0m\u001b[0m\n\u001b[0m\u001b[1;32m   1045\u001b[0m                 \u001b[0;32mpass\u001b[0m\u001b[0;34m\u001b[0m\u001b[0;34m\u001b[0m\u001b[0m\n\u001b[1;32m   1046\u001b[0m \u001b[0;34m\u001b[0m\u001b[0m\n",
      "\u001b[0;32m~/anaconda3/lib/python3.8/site-packages/joblib/parallel.py\u001b[0m in \u001b[0;36mdispatch_one_batch\u001b[0;34m(self, iterator)\u001b[0m\n\u001b[1;32m    857\u001b[0m                 \u001b[0;32mreturn\u001b[0m \u001b[0;32mFalse\u001b[0m\u001b[0;34m\u001b[0m\u001b[0;34m\u001b[0m\u001b[0m\n\u001b[1;32m    858\u001b[0m             \u001b[0;32melse\u001b[0m\u001b[0;34m:\u001b[0m\u001b[0;34m\u001b[0m\u001b[0;34m\u001b[0m\u001b[0m\n\u001b[0;32m--> 859\u001b[0;31m                 \u001b[0mself\u001b[0m\u001b[0;34m.\u001b[0m\u001b[0m_dispatch\u001b[0m\u001b[0;34m(\u001b[0m\u001b[0mtasks\u001b[0m\u001b[0;34m)\u001b[0m\u001b[0;34m\u001b[0m\u001b[0;34m\u001b[0m\u001b[0m\n\u001b[0m\u001b[1;32m    860\u001b[0m                 \u001b[0;32mreturn\u001b[0m \u001b[0;32mTrue\u001b[0m\u001b[0;34m\u001b[0m\u001b[0;34m\u001b[0m\u001b[0m\n\u001b[1;32m    861\u001b[0m \u001b[0;34m\u001b[0m\u001b[0m\n",
      "\u001b[0;32m~/anaconda3/lib/python3.8/site-packages/joblib/parallel.py\u001b[0m in \u001b[0;36m_dispatch\u001b[0;34m(self, batch)\u001b[0m\n\u001b[1;32m    775\u001b[0m         \u001b[0;32mwith\u001b[0m \u001b[0mself\u001b[0m\u001b[0;34m.\u001b[0m\u001b[0m_lock\u001b[0m\u001b[0;34m:\u001b[0m\u001b[0;34m\u001b[0m\u001b[0;34m\u001b[0m\u001b[0m\n\u001b[1;32m    776\u001b[0m             \u001b[0mjob_idx\u001b[0m \u001b[0;34m=\u001b[0m \u001b[0mlen\u001b[0m\u001b[0;34m(\u001b[0m\u001b[0mself\u001b[0m\u001b[0;34m.\u001b[0m\u001b[0m_jobs\u001b[0m\u001b[0;34m)\u001b[0m\u001b[0;34m\u001b[0m\u001b[0;34m\u001b[0m\u001b[0m\n\u001b[0;32m--> 777\u001b[0;31m             \u001b[0mjob\u001b[0m \u001b[0;34m=\u001b[0m \u001b[0mself\u001b[0m\u001b[0;34m.\u001b[0m\u001b[0m_backend\u001b[0m\u001b[0;34m.\u001b[0m\u001b[0mapply_async\u001b[0m\u001b[0;34m(\u001b[0m\u001b[0mbatch\u001b[0m\u001b[0;34m,\u001b[0m \u001b[0mcallback\u001b[0m\u001b[0;34m=\u001b[0m\u001b[0mcb\u001b[0m\u001b[0;34m)\u001b[0m\u001b[0;34m\u001b[0m\u001b[0;34m\u001b[0m\u001b[0m\n\u001b[0m\u001b[1;32m    778\u001b[0m             \u001b[0;31m# A job can complete so quickly than its callback is\u001b[0m\u001b[0;34m\u001b[0m\u001b[0;34m\u001b[0m\u001b[0;34m\u001b[0m\u001b[0m\n\u001b[1;32m    779\u001b[0m             \u001b[0;31m# called before we get here, causing self._jobs to\u001b[0m\u001b[0;34m\u001b[0m\u001b[0;34m\u001b[0m\u001b[0;34m\u001b[0m\u001b[0m\n",
      "\u001b[0;32m~/anaconda3/lib/python3.8/site-packages/joblib/_parallel_backends.py\u001b[0m in \u001b[0;36mapply_async\u001b[0;34m(self, func, callback)\u001b[0m\n\u001b[1;32m    206\u001b[0m     \u001b[0;32mdef\u001b[0m \u001b[0mapply_async\u001b[0m\u001b[0;34m(\u001b[0m\u001b[0mself\u001b[0m\u001b[0;34m,\u001b[0m \u001b[0mfunc\u001b[0m\u001b[0;34m,\u001b[0m \u001b[0mcallback\u001b[0m\u001b[0;34m=\u001b[0m\u001b[0;32mNone\u001b[0m\u001b[0;34m)\u001b[0m\u001b[0;34m:\u001b[0m\u001b[0;34m\u001b[0m\u001b[0;34m\u001b[0m\u001b[0m\n\u001b[1;32m    207\u001b[0m         \u001b[0;34m\"\"\"Schedule a func to be run\"\"\"\u001b[0m\u001b[0;34m\u001b[0m\u001b[0;34m\u001b[0m\u001b[0m\n\u001b[0;32m--> 208\u001b[0;31m         \u001b[0mresult\u001b[0m \u001b[0;34m=\u001b[0m \u001b[0mImmediateResult\u001b[0m\u001b[0;34m(\u001b[0m\u001b[0mfunc\u001b[0m\u001b[0;34m)\u001b[0m\u001b[0;34m\u001b[0m\u001b[0;34m\u001b[0m\u001b[0m\n\u001b[0m\u001b[1;32m    209\u001b[0m         \u001b[0;32mif\u001b[0m \u001b[0mcallback\u001b[0m\u001b[0;34m:\u001b[0m\u001b[0;34m\u001b[0m\u001b[0;34m\u001b[0m\u001b[0m\n\u001b[1;32m    210\u001b[0m             \u001b[0mcallback\u001b[0m\u001b[0;34m(\u001b[0m\u001b[0mresult\u001b[0m\u001b[0;34m)\u001b[0m\u001b[0;34m\u001b[0m\u001b[0;34m\u001b[0m\u001b[0m\n",
      "\u001b[0;32m~/anaconda3/lib/python3.8/site-packages/joblib/_parallel_backends.py\u001b[0m in \u001b[0;36m__init__\u001b[0;34m(self, batch)\u001b[0m\n\u001b[1;32m    570\u001b[0m         \u001b[0;31m# Don't delay the application, to avoid keeping the input\u001b[0m\u001b[0;34m\u001b[0m\u001b[0;34m\u001b[0m\u001b[0;34m\u001b[0m\u001b[0m\n\u001b[1;32m    571\u001b[0m         \u001b[0;31m# arguments in memory\u001b[0m\u001b[0;34m\u001b[0m\u001b[0;34m\u001b[0m\u001b[0;34m\u001b[0m\u001b[0m\n\u001b[0;32m--> 572\u001b[0;31m         \u001b[0mself\u001b[0m\u001b[0;34m.\u001b[0m\u001b[0mresults\u001b[0m \u001b[0;34m=\u001b[0m \u001b[0mbatch\u001b[0m\u001b[0;34m(\u001b[0m\u001b[0;34m)\u001b[0m\u001b[0;34m\u001b[0m\u001b[0;34m\u001b[0m\u001b[0m\n\u001b[0m\u001b[1;32m    573\u001b[0m \u001b[0;34m\u001b[0m\u001b[0m\n\u001b[1;32m    574\u001b[0m     \u001b[0;32mdef\u001b[0m \u001b[0mget\u001b[0m\u001b[0;34m(\u001b[0m\u001b[0mself\u001b[0m\u001b[0;34m)\u001b[0m\u001b[0;34m:\u001b[0m\u001b[0;34m\u001b[0m\u001b[0;34m\u001b[0m\u001b[0m\n",
      "\u001b[0;32m~/anaconda3/lib/python3.8/site-packages/joblib/parallel.py\u001b[0m in \u001b[0;36m__call__\u001b[0;34m(self)\u001b[0m\n\u001b[1;32m    260\u001b[0m         \u001b[0;31m# change the default number of processes to -1\u001b[0m\u001b[0;34m\u001b[0m\u001b[0;34m\u001b[0m\u001b[0;34m\u001b[0m\u001b[0m\n\u001b[1;32m    261\u001b[0m         \u001b[0;32mwith\u001b[0m \u001b[0mparallel_backend\u001b[0m\u001b[0;34m(\u001b[0m\u001b[0mself\u001b[0m\u001b[0;34m.\u001b[0m\u001b[0m_backend\u001b[0m\u001b[0;34m,\u001b[0m \u001b[0mn_jobs\u001b[0m\u001b[0;34m=\u001b[0m\u001b[0mself\u001b[0m\u001b[0;34m.\u001b[0m\u001b[0m_n_jobs\u001b[0m\u001b[0;34m)\u001b[0m\u001b[0;34m:\u001b[0m\u001b[0;34m\u001b[0m\u001b[0;34m\u001b[0m\u001b[0m\n\u001b[0;32m--> 262\u001b[0;31m             return [func(*args, **kwargs)\n\u001b[0m\u001b[1;32m    263\u001b[0m                     for func, args, kwargs in self.items]\n\u001b[1;32m    264\u001b[0m \u001b[0;34m\u001b[0m\u001b[0m\n",
      "\u001b[0;32m~/anaconda3/lib/python3.8/site-packages/joblib/parallel.py\u001b[0m in \u001b[0;36m<listcomp>\u001b[0;34m(.0)\u001b[0m\n\u001b[1;32m    260\u001b[0m         \u001b[0;31m# change the default number of processes to -1\u001b[0m\u001b[0;34m\u001b[0m\u001b[0;34m\u001b[0m\u001b[0;34m\u001b[0m\u001b[0m\n\u001b[1;32m    261\u001b[0m         \u001b[0;32mwith\u001b[0m \u001b[0mparallel_backend\u001b[0m\u001b[0;34m(\u001b[0m\u001b[0mself\u001b[0m\u001b[0;34m.\u001b[0m\u001b[0m_backend\u001b[0m\u001b[0;34m,\u001b[0m \u001b[0mn_jobs\u001b[0m\u001b[0;34m=\u001b[0m\u001b[0mself\u001b[0m\u001b[0;34m.\u001b[0m\u001b[0m_n_jobs\u001b[0m\u001b[0;34m)\u001b[0m\u001b[0;34m:\u001b[0m\u001b[0;34m\u001b[0m\u001b[0;34m\u001b[0m\u001b[0m\n\u001b[0;32m--> 262\u001b[0;31m             return [func(*args, **kwargs)\n\u001b[0m\u001b[1;32m    263\u001b[0m                     for func, args, kwargs in self.items]\n\u001b[1;32m    264\u001b[0m \u001b[0;34m\u001b[0m\u001b[0m\n",
      "\u001b[0;32m~/anaconda3/lib/python3.8/site-packages/sklearn/utils/fixes.py\u001b[0m in \u001b[0;36m__call__\u001b[0;34m(self, *args, **kwargs)\u001b[0m\n\u001b[1;32m    220\u001b[0m     \u001b[0;32mdef\u001b[0m \u001b[0m__call__\u001b[0m\u001b[0;34m(\u001b[0m\u001b[0mself\u001b[0m\u001b[0;34m,\u001b[0m \u001b[0;34m*\u001b[0m\u001b[0margs\u001b[0m\u001b[0;34m,\u001b[0m \u001b[0;34m**\u001b[0m\u001b[0mkwargs\u001b[0m\u001b[0;34m)\u001b[0m\u001b[0;34m:\u001b[0m\u001b[0;34m\u001b[0m\u001b[0;34m\u001b[0m\u001b[0m\n\u001b[1;32m    221\u001b[0m         \u001b[0;32mwith\u001b[0m \u001b[0mconfig_context\u001b[0m\u001b[0;34m(\u001b[0m\u001b[0;34m**\u001b[0m\u001b[0mself\u001b[0m\u001b[0;34m.\u001b[0m\u001b[0mconfig\u001b[0m\u001b[0;34m)\u001b[0m\u001b[0;34m:\u001b[0m\u001b[0;34m\u001b[0m\u001b[0;34m\u001b[0m\u001b[0m\n\u001b[0;32m--> 222\u001b[0;31m             \u001b[0;32mreturn\u001b[0m \u001b[0mself\u001b[0m\u001b[0;34m.\u001b[0m\u001b[0mfunction\u001b[0m\u001b[0;34m(\u001b[0m\u001b[0;34m*\u001b[0m\u001b[0margs\u001b[0m\u001b[0;34m,\u001b[0m \u001b[0;34m**\u001b[0m\u001b[0mkwargs\u001b[0m\u001b[0;34m)\u001b[0m\u001b[0;34m\u001b[0m\u001b[0;34m\u001b[0m\u001b[0m\n\u001b[0m",
      "\u001b[0;32m~/anaconda3/lib/python3.8/site-packages/sklearn/ensemble/_forest.py\u001b[0m in \u001b[0;36m_parallel_build_trees\u001b[0;34m(tree, forest, X, y, sample_weight, tree_idx, n_trees, verbose, class_weight, n_samples_bootstrap)\u001b[0m\n\u001b[1;32m    167\u001b[0m                                                         indices=indices)\n\u001b[1;32m    168\u001b[0m \u001b[0;34m\u001b[0m\u001b[0m\n\u001b[0;32m--> 169\u001b[0;31m         \u001b[0mtree\u001b[0m\u001b[0;34m.\u001b[0m\u001b[0mfit\u001b[0m\u001b[0;34m(\u001b[0m\u001b[0mX\u001b[0m\u001b[0;34m,\u001b[0m \u001b[0my\u001b[0m\u001b[0;34m,\u001b[0m \u001b[0msample_weight\u001b[0m\u001b[0;34m=\u001b[0m\u001b[0mcurr_sample_weight\u001b[0m\u001b[0;34m,\u001b[0m \u001b[0mcheck_input\u001b[0m\u001b[0;34m=\u001b[0m\u001b[0;32mFalse\u001b[0m\u001b[0;34m)\u001b[0m\u001b[0;34m\u001b[0m\u001b[0;34m\u001b[0m\u001b[0m\n\u001b[0m\u001b[1;32m    170\u001b[0m     \u001b[0;32melse\u001b[0m\u001b[0;34m:\u001b[0m\u001b[0;34m\u001b[0m\u001b[0;34m\u001b[0m\u001b[0m\n\u001b[1;32m    171\u001b[0m         \u001b[0mtree\u001b[0m\u001b[0;34m.\u001b[0m\u001b[0mfit\u001b[0m\u001b[0;34m(\u001b[0m\u001b[0mX\u001b[0m\u001b[0;34m,\u001b[0m \u001b[0my\u001b[0m\u001b[0;34m,\u001b[0m \u001b[0msample_weight\u001b[0m\u001b[0;34m=\u001b[0m\u001b[0msample_weight\u001b[0m\u001b[0;34m,\u001b[0m \u001b[0mcheck_input\u001b[0m\u001b[0;34m=\u001b[0m\u001b[0;32mFalse\u001b[0m\u001b[0;34m)\u001b[0m\u001b[0;34m\u001b[0m\u001b[0;34m\u001b[0m\u001b[0m\n",
      "\u001b[0;32m~/anaconda3/lib/python3.8/site-packages/sklearn/tree/_classes.py\u001b[0m in \u001b[0;36mfit\u001b[0;34m(self, X, y, sample_weight, check_input, X_idx_sorted)\u001b[0m\n\u001b[1;32m    901\u001b[0m         \"\"\"\n\u001b[1;32m    902\u001b[0m \u001b[0;34m\u001b[0m\u001b[0m\n\u001b[0;32m--> 903\u001b[0;31m         super().fit(\n\u001b[0m\u001b[1;32m    904\u001b[0m             \u001b[0mX\u001b[0m\u001b[0;34m,\u001b[0m \u001b[0my\u001b[0m\u001b[0;34m,\u001b[0m\u001b[0;34m\u001b[0m\u001b[0;34m\u001b[0m\u001b[0m\n\u001b[1;32m    905\u001b[0m             \u001b[0msample_weight\u001b[0m\u001b[0;34m=\u001b[0m\u001b[0msample_weight\u001b[0m\u001b[0;34m,\u001b[0m\u001b[0;34m\u001b[0m\u001b[0;34m\u001b[0m\u001b[0m\n",
      "\u001b[0;32m~/anaconda3/lib/python3.8/site-packages/sklearn/tree/_classes.py\u001b[0m in \u001b[0;36mfit\u001b[0;34m(self, X, y, sample_weight, check_input, X_idx_sorted)\u001b[0m\n\u001b[1;32m    392\u001b[0m                                            min_impurity_split)\n\u001b[1;32m    393\u001b[0m \u001b[0;34m\u001b[0m\u001b[0m\n\u001b[0;32m--> 394\u001b[0;31m         \u001b[0mbuilder\u001b[0m\u001b[0;34m.\u001b[0m\u001b[0mbuild\u001b[0m\u001b[0;34m(\u001b[0m\u001b[0mself\u001b[0m\u001b[0;34m.\u001b[0m\u001b[0mtree_\u001b[0m\u001b[0;34m,\u001b[0m \u001b[0mX\u001b[0m\u001b[0;34m,\u001b[0m \u001b[0my\u001b[0m\u001b[0;34m,\u001b[0m \u001b[0msample_weight\u001b[0m\u001b[0;34m)\u001b[0m\u001b[0;34m\u001b[0m\u001b[0;34m\u001b[0m\u001b[0m\n\u001b[0m\u001b[1;32m    395\u001b[0m \u001b[0;34m\u001b[0m\u001b[0m\n\u001b[1;32m    396\u001b[0m         \u001b[0;32mif\u001b[0m \u001b[0mself\u001b[0m\u001b[0;34m.\u001b[0m\u001b[0mn_outputs_\u001b[0m \u001b[0;34m==\u001b[0m \u001b[0;36m1\u001b[0m \u001b[0;32mand\u001b[0m \u001b[0mis_classifier\u001b[0m\u001b[0;34m(\u001b[0m\u001b[0mself\u001b[0m\u001b[0;34m)\u001b[0m\u001b[0;34m:\u001b[0m\u001b[0;34m\u001b[0m\u001b[0;34m\u001b[0m\u001b[0m\n",
      "\u001b[0;31mKeyboardInterrupt\u001b[0m: "
     ]
    }
   ],
   "source": [
    "if part == 'd':\n",
    "    part_d_param_senitivity()"
   ]
  }
 ],
 "metadata": {
  "kernelspec": {
   "display_name": "Python 3 (ipykernel)",
   "language": "python",
   "name": "python3"
  },
  "language_info": {
   "codemirror_mode": {
    "name": "ipython",
    "version": 3
   },
   "file_extension": ".py",
   "mimetype": "text/x-python",
   "name": "python",
   "nbconvert_exporter": "python",
   "pygments_lexer": "ipython3",
   "version": "3.8.8"
  },
  "toc-autonumbering": false,
  "toc-showcode": false,
  "toc-showmarkdowntxt": false
 },
 "nbformat": 4,
 "nbformat_minor": 5
}
