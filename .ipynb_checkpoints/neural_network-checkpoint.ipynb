{
 "cells": [
  {
   "cell_type": "code",
   "execution_count": 1,
   "id": "87237e43-970a-4312-944a-a0f7a926d63d",
   "metadata": {},
   "outputs": [],
   "source": [
    "from sklearn.tree import DecisionTreeClassifier\n",
    "from sklearn.ensemble import RandomForestClassifier\n",
    "from sklearn.metrics import accuracy_score\n",
    "from sklearn.preprocessing import OneHotEncoder\n",
    "from tqdm import tqdm_notebook\n",
    "from sys import argv\n",
    "import pandas as pd\n",
    "import matplotlib.pyplot as plt\n",
    "import numpy as np\n",
    "import math\n",
    "import datetime\n",
    "from sys import exit\n",
    "import warnings\n",
    "warnings.filterwarnings('ignore')\n",
    "\n",
    "## Taken some reference from https://github.com/thevivekcode/MachineLearning/blob/master/Assignment3/Neural_Networks/A3P2.ipynb\n",
    "## For speeding up code using matrix multiplication in Neural Network"
   ]
  },
  {
   "cell_type": "code",
   "execution_count": 2,
   "id": "67090321-c2da-4e44-99fd-d6adcafdc2e6",
   "metadata": {},
   "outputs": [],
   "source": [
    "test_path = 'poker-hand-testing.data'\n",
    "train_path = 'poker-hand-training-true.data'\n",
    "\n",
    "# Final::\n",
    "test_path = argv[1]\n",
    "train_path = argv[2]\n",
    "part = argv[3]"
   ]
  },
  {
   "cell_type": "code",
   "execution_count": 3,
   "id": "43370f2e-6120-4c1d-9d21-eaa5aa9b9fc5",
   "metadata": {},
   "outputs": [],
   "source": [
    "def read_data(path):\n",
    "    data = pd.read_csv(path, header=None)\n",
    "    return data"
   ]
  },
  {
   "cell_type": "code",
   "execution_count": 4,
   "id": "efa6ed9c-7d74-40a7-b624-b6fea111b3a9",
   "metadata": {
    "tags": []
   },
   "outputs": [],
   "source": [
    "train_data = read_data(train_path)"
   ]
  },
  {
   "cell_type": "code",
   "execution_count": 5,
   "id": "42987931-45a8-4c74-a51b-d8c9e4fd4eb5",
   "metadata": {
    "tags": []
   },
   "outputs": [],
   "source": [
    "test_data = read_data(test_path)"
   ]
  },
  {
   "cell_type": "code",
   "execution_count": 6,
   "id": "e085d533-6520-4a38-a901-9ace2b0e4bc1",
   "metadata": {},
   "outputs": [
    {
     "data": {
      "text/plain": [
       "OneHotEncoder(handle_unknown='ignore')"
      ]
     },
     "execution_count": 6,
     "metadata": {},
     "output_type": "execute_result"
    }
   ],
   "source": [
    "ohe = OneHotEncoder(handle_unknown='ignore')\n",
    "ohe.fit(train_data.iloc[:,:-1])"
   ]
  },
  {
   "cell_type": "code",
   "execution_count": 7,
   "id": "54f2c7c7-5054-4d6c-8912-6c7f02b46c98",
   "metadata": {},
   "outputs": [],
   "source": [
    "X_train = ohe.transform(train_data.iloc[:,:-1]).toarray()\n",
    "Y_train = np.array(train_data.iloc[:,-1])\n",
    "#print(X_train.shape, Y_train.shape)\n",
    "#print(type(X_train))\n",
    "#print('unique y:',np.unique(Y_train))"
   ]
  },
  {
   "cell_type": "code",
   "execution_count": 8,
   "id": "e09a5fa9-b939-4f0b-8142-125c04597ad9",
   "metadata": {},
   "outputs": [],
   "source": [
    "X_test = ohe.transform(test_data.iloc[:,:-1]).toarray()\n",
    "Y_test = np.array(test_data.iloc[:,-1])\n",
    "#print(X_test.shape, Y_test.shape)\n",
    "#print('uniq y:', np.unique(Y_test))"
   ]
  },
  {
   "cell_type": "code",
   "execution_count": 10,
   "id": "791b5f67-e884-4ca3-bfe2-bd83076fb5ca",
   "metadata": {},
   "outputs": [
    {
     "name": "stdout",
     "output_type": "stream",
     "text": [
      "X train Shape: (25010, 85)\n",
      "Y train Shape: (25010,)\n",
      "X_test Shape : (1000000, 85)\n",
      "Y_test Shape : (1000000,)\n"
     ]
    }
   ],
   "source": [
    "# part = 'a'\n",
    "if part =='a':\n",
    "    print('X train Shape:',X_train.shape)\n",
    "    print('Y train Shape:',Y_train.shape)\n",
    "    print('X_test Shape :',X_test.shape)\n",
    "    print('Y_test Shape :',Y_test.shape)\n",
    "    exit()"
   ]
  },
  {
   "cell_type": "code",
   "execution_count": 11,
   "id": "0a6cb17a-935d-4733-ac3b-5e5dea17e0c0",
   "metadata": {
    "tags": []
   },
   "outputs": [],
   "source": [
    "class NN:\n",
    "    def __init__(self, layers, feature_size = 85, target_class = 10, lr = 0.1, activation_m = 'sigmoid', lr_rate= 'normal'):\n",
    "        self.hidden_layers = layers\n",
    "        self.total_layers  = len(layers) + 1\n",
    "        self.feature_size  = feature_size\n",
    "        self.target_class  = target_class\n",
    "        self.activation_m  = activation_m\n",
    "        self.lr_rate = lr_rate\n",
    "        self.lr      = lr\n",
    "        self.params  = []\n",
    "        self.layer_ip = [0]*self.total_layers\n",
    "        self.layer_op = [0]*self.total_layers\n",
    "        self.del_i = [0]*self.total_layers\n",
    "        print('total layers: %d\\n hidden_layers %s\\n feature_size: %d'%(self.total_layers, str(self.hidden_layers), self.feature_size))\n",
    "    \n",
    "    def activation(self, X, typ = 'sigmoid'):\n",
    "        if typ == 'sigmoid':\n",
    "            return 1.0/(1.0 + np.exp(-X))\n",
    "        else:\n",
    "            return np.where(X>0,X,0)\n",
    "        \n",
    "    def softmax(self,X):\n",
    "        exps = np.exp(X)\n",
    "        return exps / np.sum(exps, axis=1).reshape(-1,1)\n",
    "    \n",
    "    def derivative(self, X, typ = 'sigmoid'):\n",
    "        if typ == 'sigmoid':\n",
    "            return X*(1-X)\n",
    "        elif typ == 'relu':\n",
    "            return 1 * (X > 0)\n",
    "    \n",
    "    def initialize_params(self):\n",
    "        total_layers = self.hidden_layers.copy()\n",
    "        total_layers.append(self.target_class)\n",
    "        layer_ip = self.feature_size\n",
    "        #print('layers', total_layers)\n",
    "        np.random.seed(0)\n",
    "        self.params = []\n",
    "        #neurons_prev = self.feature_size\n",
    "        for layer_no, layer_op in enumerate(total_layers):\n",
    "            #print('Layers ip and op',layer_op, layer_ip)\n",
    "            local_w = np.random.randn(layer_op, layer_ip)\n",
    "            #if self.lr_rate != 'adaptive':\n",
    "            local_w /= np.sqrt(self.feature_size)\n",
    "            local_b = np.zeros((layer_op ,1))\n",
    "            \n",
    "            self.params.append([local_w, local_b])\n",
    "            layer_ip = layer_op\n",
    "        return\n",
    "    \n",
    "    def forward_pass(self, X):\n",
    "        ip = X.copy()\n",
    "        for layer_no in range(self.total_layers-1):\n",
    "            \n",
    "            [W, b] = self.params[layer_no].copy()\n",
    "            \n",
    "            H = 1.0*np.dot(ip, W.T) + b.T\n",
    "            A = self.activation(H, self.activation_m)\n",
    "            #print('A shape:', A.shape)\n",
    "            self.layer_op[layer_no] = A.copy()\n",
    "            self.layer_ip[layer_no] = ip.copy()\n",
    "            ip = A\n",
    "        \n",
    "        #For OP Layer\n",
    "        [W, b] = self.params[self.total_layers-1]\n",
    "        #print('Params shapes:',W.shape, b.shape)\n",
    "        H = 1.0*np.dot(ip, W.T) + b.T\n",
    "        A = self.activation(H, 'sigmoid') #For OP only sigmoid\n",
    "        self.layer_op[self.total_layers-1] = A.copy()\n",
    "        self.layer_ip[self.total_layers-1] = ip.copy()\n",
    "        #A = self.softmax(A)\n",
    "        return A\n",
    "    \n",
    "    def back_propagation(self, Y):\n",
    "        #print('---------------back propagation')\n",
    "        m = Y.shape[0]\n",
    "        l_op = self.layer_op[self.total_layers -1 ].copy()\n",
    "        #print('l_op',l_op.shape)\n",
    "        delZ = self.derivative(l_op, typ='sigmoid')\n",
    "        #print('delZ',delZ.shape)\n",
    "        #print('y',Y.shape)\n",
    "        delJ_prev = (Y-l_op)*delZ/m\n",
    "        self.del_i[self.total_layers-1] = delJ_prev.copy()\n",
    "        #print('hidden layers rev',self.hidden_layers[::-1])\n",
    "        \n",
    "        for ll_rev, nodes_count in enumerate(self.hidden_layers[::-1]):\n",
    "            layer_no = self.total_layers -1- ll_rev\n",
    "            #print(layer_no)\n",
    "            #print('\\tLayer:',layer_no, self.hidden_layers[layer_no])\n",
    "            \n",
    "            delO = self.derivative(self.layer_op[layer_no-1], self.activation_m).copy()\n",
    "            #print('\\tdelO', delO.shape)\n",
    "            #print('\\tdelJ_prev',delJ_prev.shape)\n",
    "            #print('\\tW_layer',self.params[layer_no][0].shape)\n",
    "            #print('\\tdelO',delO.shape)\n",
    "            delJ_all = np.dot(delJ_prev, self.params[layer_no][0])* delO\n",
    "            #print('\\tdelJ_all',delJ_all.shape)\n",
    "            \n",
    "            self.del_i[layer_no-1] = delJ_all.copy()\n",
    "            delJ_prev = delJ_all\n",
    "            \n",
    "        return None\n",
    "    \n",
    "    def cost_function(self, Y):\n",
    "        return np.sum((Y - self.layer_op[self.total_layers-1])**2/(2*Y.shape[0]))\n",
    "    \n",
    "    def fit(self, X, y, lr=0.1, max_epochs=1000, batch_size=100, stopping_val = 0.001):\n",
    "        ohe_y = OneHotEncoder(handle_unknown = 'ignore')\n",
    "        ohe_y.fit(y.reshape(-1,1))\n",
    "        Y = ohe_y.transform(y.reshape(-1,1)).toarray()\n",
    "        \n",
    "        m = X.shape[0]\n",
    "        error = 0\n",
    "        prev_error    = 0\n",
    "        epochs_taken  = 0\n",
    "        accuracy_list = []\n",
    "        error_list    = []\n",
    "        # stopping_val  = 0.001\n",
    "        if self.params == []:\n",
    "            self.initialize_params()\n",
    "        for epoch in range(max_epochs):\n",
    "            batches = int(m/batch_size)\n",
    "            error   = 0\n",
    "            ind     = np.arange(m)\n",
    "            np.random.shuffle(ind)\n",
    "            #print('EPOCH NO------------:',epoch)\n",
    "            for batch_no in range(batches):\n",
    "                #print('batch from -',batch_no*batch_size, (batch_no +1)*batch_size)\n",
    "                pick_batch = ind[batch_no*batch_size : (batch_no +1)*batch_size]\n",
    "                X_b = X[pick_batch]\n",
    "                Y_b = Y[pick_batch]\n",
    "                #X_b = X[batch_no*batch_size: (batch_no +1)*batch_size]\n",
    "                #Y_b = Y[batch_no*batch_size: (batch_no +1)*batch_size]\n",
    "                \n",
    "                self.forward_pass(X_b)\n",
    "                self.back_propagation(Y_b)\n",
    "                lr_m = lr\n",
    "                if self.lr_rate == 'adaptive':\n",
    "                    lr_m = lr/math.sqrt(epoch+1)                    \n",
    "                for layer_no in range(self.total_layers):\n",
    "                    #print('del_i',self.del_i[layer_no].shape)\n",
    "                    #print('layer_ip',self.layer_ip[layer_no].shape)\n",
    "                    grad_W = np.dot(self.del_i[layer_no].T, self.layer_ip[layer_no])\n",
    "                    grad_b = np.sum(self.del_i[layer_no], axis = 0).T.reshape((-1,1))\n",
    "                    #print('lr:',lr_m)\n",
    "                    #print('grad_W', grad_W.shape)\n",
    "                    #print('param W',self.params[layer_no][0].shape)\n",
    "                    self.params[layer_no][0] += lr_m*grad_W\n",
    "                    self.params[layer_no][1] += lr_m*grad_b\n",
    "                    error+= self.cost_function(Y_b)\n",
    "                    \n",
    "            error /=batch_size\n",
    "            #print('acc',acc)\n",
    "            if epoch%100 == 0:\n",
    "                if epoch>= 100 and abs(error_list[-1] - error) < stopping_val:\n",
    "                    epochs_taken = epoch\n",
    "                    print('No significant updates, EXITTING ----------------------')\n",
    "                    break\n",
    "                self.forward_pass(X)\n",
    "                pred = self.layer_op[self.total_layers - 1]\n",
    "                pred = np.argmax(pred, axis = 1)\n",
    "                acc = accuracy_score(pred, y.reshape(-1))\n",
    "                accuracy_list.append(acc)\n",
    "                error_list.append(error)\n",
    "                print('epoch %-5d | error: %-6f | acc: %-10f'%(epoch, error, acc*100))\n",
    "            prev_error = error\n",
    "        print('Final Accuracy :',accuracy_list[-1])\n",
    "        print('Final Error    :',error_list[-1])\n",
    "        epochs_taken = max_epochs if epochs_taken == 0 else epochs_taken\n",
    "        print('epochs taken   :',epochs_taken)\n",
    "        print('Stopping Value(for dff in 100 epochs err) :', stopping_val)\n",
    "        return accuracy_list, error_list\n",
    "    \n",
    "    def confusion_matrix(self, predictions, labels, plot_it = False, path = 'conf_matrix'):\n",
    "        n = self.target_class\n",
    "        conf_matrix = [[0 for i in range(n)] for j in range(n)]\n",
    "        for p, l in zip(predictions, labels):\n",
    "            conf_matrix[int(l)][int(p)] +=1\n",
    "        if not plot_it:\n",
    "            return conf_matrix\n",
    "        fig, ax = plt.subplots(figsize=(10, 10))\n",
    "        ax.matshow(conf_matrix, cmap=plt.cm.Blues, alpha=0.9)\n",
    "        for i in range(len(conf_matrix)):\n",
    "            for j in range(len(conf_matrix[0])):\n",
    "                ax.text(x=j, y=i,s=conf_matrix[i][j], va='center', ha='center', size='xx-large')\n",
    "        plt.xlabel('Predictions', fontsize=18)\n",
    "        plt.ylabel('Actuals', fontsize=18)\n",
    "        plt.title('Confusion Matrix', fontsize=18)\n",
    "        #plt.plot()\n",
    "        plt.savefig(path)\n",
    "        return conf_matrix\n",
    "    \n",
    "    def predict(self, X):\n",
    "        pred = self.forward_pass(X)\n",
    "        return np.argmax(pred, axis = 1)\n",
    "        "
   ]
  },
  {
   "cell_type": "code",
   "execution_count": 14,
   "id": "763e15f0-db9f-4147-8dad-59299672dea8",
   "metadata": {
    "collapsed": true,
    "jupyter": {
     "outputs_hidden": true
    },
    "tags": []
   },
   "outputs": [
    {
     "name": "stdout",
     "output_type": "stream",
     "text": [
      "Just Running a NN model to show it's working\n",
      "total layers: 2\n",
      " hidden_layers [25]\n",
      " feature_size: 85\n",
      "epoch 0     | error: 1.771591 | acc: 49.952019 \n",
      "epoch 100   | error: 1.418730 | acc: 49.956018 \n",
      "epoch 200   | error: 1.417686 | acc: 49.976010 \n",
      "epoch 300   | error: 1.416911 | acc: 50.115954 \n",
      "epoch 400   | error: 1.415642 | acc: 50.183926 \n",
      "epoch 500   | error: 1.412319 | acc: 50.599760 \n",
      "epoch 600   | error: 1.393694 | acc: 53.322671 \n",
      "epoch 700   | error: 1.358461 | acc: 56.377449 \n",
      "epoch 800   | error: 1.330662 | acc: 58.264694 \n"
     ]
    },
    {
     "ename": "KeyboardInterrupt",
     "evalue": "",
     "output_type": "error",
     "traceback": [
      "\u001b[0;31m---------------------------------------------------------------------------\u001b[0m",
      "\u001b[0;31mKeyboardInterrupt\u001b[0m                         Traceback (most recent call last)",
      "\u001b[0;32m/tmp/ipykernel_48700/2148341054.py\u001b[0m in \u001b[0;36m<module>\u001b[0;34m\u001b[0m\n\u001b[1;32m      3\u001b[0m     \u001b[0mprint\u001b[0m\u001b[0;34m(\u001b[0m\u001b[0;34m'Just Running a NN model to show it\\'s working'\u001b[0m\u001b[0;34m)\u001b[0m\u001b[0;34m\u001b[0m\u001b[0;34m\u001b[0m\u001b[0m\n\u001b[1;32m      4\u001b[0m     \u001b[0mnn_model\u001b[0m \u001b[0;34m=\u001b[0m \u001b[0mNN\u001b[0m\u001b[0;34m(\u001b[0m\u001b[0;34m[\u001b[0m\u001b[0;36m25\u001b[0m\u001b[0;34m]\u001b[0m\u001b[0;34m,\u001b[0m \u001b[0mlr_rate\u001b[0m\u001b[0;34m=\u001b[0m\u001b[0;34m'normal'\u001b[0m\u001b[0;34m,\u001b[0m \u001b[0mactivation_m\u001b[0m\u001b[0;34m=\u001b[0m\u001b[0;34m'sigmoid'\u001b[0m\u001b[0;34m)\u001b[0m\u001b[0;34m\u001b[0m\u001b[0;34m\u001b[0m\u001b[0m\n\u001b[0;32m----> 5\u001b[0;31m     \u001b[0maccuracy_list\u001b[0m\u001b[0;34m,\u001b[0m \u001b[0merror_list\u001b[0m \u001b[0;34m=\u001b[0m \u001b[0mnn_model\u001b[0m\u001b[0;34m.\u001b[0m\u001b[0mfit\u001b[0m\u001b[0;34m(\u001b[0m\u001b[0mX_train\u001b[0m\u001b[0;34m[\u001b[0m\u001b[0;34m:\u001b[0m\u001b[0;34m]\u001b[0m\u001b[0;34m,\u001b[0m \u001b[0mY_train\u001b[0m\u001b[0;34m[\u001b[0m\u001b[0;34m:\u001b[0m\u001b[0;34m]\u001b[0m\u001b[0;34m,\u001b[0m \u001b[0mlr\u001b[0m\u001b[0;34m=\u001b[0m\u001b[0;36m0.1\u001b[0m\u001b[0;34m,\u001b[0m \u001b[0mmax_epochs\u001b[0m\u001b[0;34m=\u001b[0m\u001b[0;36m2000\u001b[0m\u001b[0;34m,\u001b[0m \u001b[0mstopping_val\u001b[0m\u001b[0;34m=\u001b[0m\u001b[0;36m0.0001\u001b[0m\u001b[0;34m)\u001b[0m\u001b[0;34m\u001b[0m\u001b[0;34m\u001b[0m\u001b[0m\n\u001b[0m\u001b[1;32m      6\u001b[0m \u001b[0;34m\u001b[0m\u001b[0m\n\u001b[1;32m      7\u001b[0m     \u001b[0mprint\u001b[0m\u001b[0;34m(\u001b[0m\u001b[0;34m'For Train data:'\u001b[0m\u001b[0;34m)\u001b[0m\u001b[0;34m\u001b[0m\u001b[0;34m\u001b[0m\u001b[0m\n",
      "\u001b[0;32m/tmp/ipykernel_48700/2578247044.py\u001b[0m in \u001b[0;36mfit\u001b[0;34m(self, X, y, lr, max_epochs, batch_size, stopping_val)\u001b[0m\n\u001b[1;32m    134\u001b[0m \u001b[0;34m\u001b[0m\u001b[0m\n\u001b[1;32m    135\u001b[0m                 \u001b[0mself\u001b[0m\u001b[0;34m.\u001b[0m\u001b[0mforward_pass\u001b[0m\u001b[0;34m(\u001b[0m\u001b[0mX_b\u001b[0m\u001b[0;34m)\u001b[0m\u001b[0;34m\u001b[0m\u001b[0;34m\u001b[0m\u001b[0m\n\u001b[0;32m--> 136\u001b[0;31m                 \u001b[0mself\u001b[0m\u001b[0;34m.\u001b[0m\u001b[0mback_propagation\u001b[0m\u001b[0;34m(\u001b[0m\u001b[0mY_b\u001b[0m\u001b[0;34m)\u001b[0m\u001b[0;34m\u001b[0m\u001b[0;34m\u001b[0m\u001b[0m\n\u001b[0m\u001b[1;32m    137\u001b[0m                 \u001b[0mlr_m\u001b[0m \u001b[0;34m=\u001b[0m \u001b[0mlr\u001b[0m\u001b[0;34m\u001b[0m\u001b[0;34m\u001b[0m\u001b[0m\n\u001b[1;32m    138\u001b[0m                 \u001b[0;32mif\u001b[0m \u001b[0mself\u001b[0m\u001b[0;34m.\u001b[0m\u001b[0mlr_rate\u001b[0m \u001b[0;34m==\u001b[0m \u001b[0;34m'adaptive'\u001b[0m\u001b[0;34m:\u001b[0m\u001b[0;34m\u001b[0m\u001b[0;34m\u001b[0m\u001b[0m\n",
      "\u001b[0;32m/tmp/ipykernel_48700/2578247044.py\u001b[0m in \u001b[0;36mback_propagation\u001b[0;34m(self, Y)\u001b[0m\n\u001b[1;32m     94\u001b[0m             \u001b[0;31m#print('\\tW_layer',self.params[layer_no][0].shape)\u001b[0m\u001b[0;34m\u001b[0m\u001b[0;34m\u001b[0m\u001b[0;34m\u001b[0m\u001b[0m\n\u001b[1;32m     95\u001b[0m             \u001b[0;31m#print('\\tdelO',delO.shape)\u001b[0m\u001b[0;34m\u001b[0m\u001b[0;34m\u001b[0m\u001b[0;34m\u001b[0m\u001b[0m\n\u001b[0;32m---> 96\u001b[0;31m             \u001b[0mdelJ_all\u001b[0m \u001b[0;34m=\u001b[0m \u001b[0mnp\u001b[0m\u001b[0;34m.\u001b[0m\u001b[0mdot\u001b[0m\u001b[0;34m(\u001b[0m\u001b[0mdelJ_prev\u001b[0m\u001b[0;34m,\u001b[0m \u001b[0mself\u001b[0m\u001b[0;34m.\u001b[0m\u001b[0mparams\u001b[0m\u001b[0;34m[\u001b[0m\u001b[0mlayer_no\u001b[0m\u001b[0;34m]\u001b[0m\u001b[0;34m[\u001b[0m\u001b[0;36m0\u001b[0m\u001b[0;34m]\u001b[0m\u001b[0;34m)\u001b[0m\u001b[0;34m*\u001b[0m \u001b[0mdelO\u001b[0m\u001b[0;34m\u001b[0m\u001b[0;34m\u001b[0m\u001b[0m\n\u001b[0m\u001b[1;32m     97\u001b[0m             \u001b[0;31m#print('\\tdelJ_all',delJ_all.shape)\u001b[0m\u001b[0;34m\u001b[0m\u001b[0;34m\u001b[0m\u001b[0;34m\u001b[0m\u001b[0m\n\u001b[1;32m     98\u001b[0m \u001b[0;34m\u001b[0m\u001b[0m\n",
      "\u001b[0;32m<__array_function__ internals>\u001b[0m in \u001b[0;36mdot\u001b[0;34m(*args, **kwargs)\u001b[0m\n",
      "\u001b[0;31mKeyboardInterrupt\u001b[0m: "
     ]
    }
   ],
   "source": [
    "# part = 'b'\n",
    "if part == 'b':\n",
    "    print('Just Running a NN model to show it\\'s working')\n",
    "    nn_model = NN([25], lr_rate='normal', activation_m='sigmoid')\n",
    "    accuracy_list, error_list = nn_model.fit(X_train[:], Y_train[:], lr=0.1, max_epochs=3000, stopping_val=0.0001)\n",
    "    \n",
    "    print('For Train data:')\n",
    "    prediction_train = nn_model.predict(X_train)\n",
    "    print('Acuracy:', accuracy_score(prediction_train, Y_train))\n",
    "    nn_model.confusion_matrix(predictions=prediction_train, labels=Y_train, plot_it=True, path='part_b_train.png')\n",
    "    \n",
    "    print('For Test data:')\n",
    "    prediction_test = nn_model.predict(X_test)\n",
    "    print('Acuracy:', accuracy_score(prediction_test, Y_test))\n",
    "    nn_model.confusion_matrix(predictions=prediction_test, labels=Y_test, plot_it=True, path='part_b_test.png')"
   ]
  },
  {
   "cell_type": "code",
   "execution_count": 33,
   "id": "865011c4-c0ac-4c19-8265-048a195d7cba",
   "metadata": {
    "collapsed": true,
    "jupyter": {
     "outputs_hidden": true
    },
    "tags": []
   },
   "outputs": [
    {
     "name": "stderr",
     "output_type": "stream",
     "text": [
      "/tmp/ipykernel_39425/1716584827.py:134: TqdmDeprecationWarning: This function will be removed in tqdm==5.0.0\n",
      "Please use `tqdm.notebook.tqdm` instead of `tqdm.tqdm_notebook`\n",
      "  for epoch in tqdm_notebook(range(max_epochs)):\n"
     ]
    },
    {
     "data": {
      "application/vnd.jupyter.widget-view+json": {
       "model_id": "40c81fb282774c89aa02a6585ddb6bda",
       "version_major": 2,
       "version_minor": 0
      },
      "text/plain": [
       "  0%|          | 0/2000 [00:00<?, ?it/s]"
      ]
     },
     "metadata": {},
     "output_type": "display_data"
    },
    {
     "name": "stdout",
     "output_type": "stream",
     "text": [
      "epoch 0     | error: 2.276620 | acc: 49.952019 \n",
      "epoch 100   | error: 1.420297 | acc: 49.952019 \n",
      "epoch 200   | error: 1.417957 | acc: 50.007997 \n",
      "epoch 300   | error: 1.415929 | acc: 50.531787 \n",
      "epoch 400   | error: 1.412994 | acc: 51.395442 \n",
      "epoch 500   | error: 1.407320 | acc: 52.155138 \n",
      "epoch 600   | error: 1.391964 | acc: 53.858457 \n",
      "epoch 700   | error: 1.353875 | acc: 57.237105 \n",
      "epoch 800   | error: 1.318714 | acc: 58.664534 \n",
      "epoch 900   | error: 1.307554 | acc: 59.096361 \n",
      "epoch 1000  | error: 1.301386 | acc: 59.216313 \n",
      "epoch 1100  | error: 1.297277 | acc: 59.404238 \n",
      "epoch 1200  | error: 1.294521 | acc: 59.396242 \n",
      "epoch 1300  | error: 1.291528 | acc: 59.644142 \n",
      "epoch 1400  | error: 1.287845 | acc: 59.840064 \n",
      "epoch 1500  | error: 1.282408 | acc: 60.159936 \n",
      "epoch 1600  | error: 1.272460 | acc: 60.731707 \n",
      "epoch 1700  | error: 1.261551 | acc: 60.907637 \n",
      "epoch 1800  | error: 1.255268 | acc: 60.859656 \n",
      "epoch 1900  | error: 1.251949 | acc: 60.951619 \n",
      "Final Accuracy : 0.609516193522591\n",
      "Final Error    : 1.2519491002492718\n",
      "epochs taken   : 2000\n",
      "Stopping Value(for dff in 100 epochs err) : 1e-05\n"
     ]
    }
   ],
   "source": [
    "# ohe_y = OneHotEncoder(handle_unknown='ignore')\n",
    "# ohe_y.fit(Y_train.reshape(-1,1))\n",
    "# Y_train_ohe = ohe_y.transform(Y_train.reshape(-1,1)).toarray()\n"
   ]
  },
  {
   "cell_type": "code",
   "execution_count": null,
   "id": "ecbec7d0-18fe-43f1-8c08-d00296e71037",
   "metadata": {
    "tags": []
   },
   "outputs": [],
   "source": []
  },
  {
   "cell_type": "code",
   "execution_count": 95,
   "id": "58d26b30-2a79-4e64-9d39-04e7992444e1",
   "metadata": {
    "collapsed": true,
    "jupyter": {
     "outputs_hidden": true
    },
    "tags": []
   },
   "outputs": [
    {
     "name": "stdout",
     "output_type": "stream",
     "text": [
      "For Test data:\n",
      "Acuracy: 0.923373\n"
     ]
    },
    {
     "data": {
      "text/plain": [
       "[[501055, 154, 0, 0, 0, 0, 0, 0, 0, 0],\n",
       " [180, 422318, 0, 0, 0, 0, 0, 0, 0, 0],\n",
       " [0, 47622, 0, 0, 0, 0, 0, 0, 0, 0],\n",
       " [0, 21121, 0, 0, 0, 0, 0, 0, 0, 0],\n",
       " [3519, 366, 0, 0, 0, 0, 0, 0, 0, 0],\n",
       " [1992, 4, 0, 0, 0, 0, 0, 0, 0, 0],\n",
       " [0, 1424, 0, 0, 0, 0, 0, 0, 0, 0],\n",
       " [0, 230, 0, 0, 0, 0, 0, 0, 0, 0],\n",
       " [9, 3, 0, 0, 0, 0, 0, 0, 0, 0],\n",
       " [3, 0, 0, 0, 0, 0, 0, 0, 0, 0]]"
      ]
     },
     "execution_count": 95,
     "metadata": {},
     "output_type": "execute_result"
    },
    {
     "data": {
      "image/png": "[encoded data removed]",
      "text/plain": [
       "<Figure size 720x720 with 1 Axes>"
      ]
     },
     "metadata": {
      "needs_background": "light"
     },
     "output_type": "display_data"
    }
   ],
   "source": []
  },
  {
   "cell_type": "code",
   "execution_count": 15,
   "id": "b91418a6-5746-4fdd-ad1c-a946ba39a660",
   "metadata": {
    "tags": []
   },
   "outputs": [
    {
     "name": "stdout",
     "output_type": "stream",
     "text": [
      "For hidden layer:----------------- [5]\n",
      "total layers: 2\n",
      " hidden_layers [5]\n",
      " feature_size: 85\n",
      "epoch 0     | error: 2.276620 | acc: 49.952019 \n",
      "epoch 100   | error: 1.420297 | acc: 49.952019 \n",
      "epoch 200   | error: 1.417957 | acc: 50.007997 \n"
     ]
    },
    {
     "ename": "KeyboardInterrupt",
     "evalue": "",
     "output_type": "error",
     "traceback": [
      "\u001b[0;31m---------------------------------------------------------------------------\u001b[0m",
      "\u001b[0;31mKeyboardInterrupt\u001b[0m                         Traceback (most recent call last)",
      "\u001b[0;32m/tmp/ipykernel_48700/1598535067.py\u001b[0m in \u001b[0;36m<module>\u001b[0;34m\u001b[0m\n\u001b[1;32m      9\u001b[0m         \u001b[0mt1\u001b[0m \u001b[0;34m=\u001b[0m \u001b[0mdatetime\u001b[0m\u001b[0;34m.\u001b[0m\u001b[0mdatetime\u001b[0m\u001b[0;34m.\u001b[0m\u001b[0mnow\u001b[0m\u001b[0;34m(\u001b[0m\u001b[0;34m)\u001b[0m\u001b[0;34m\u001b[0m\u001b[0;34m\u001b[0m\u001b[0m\n\u001b[1;32m     10\u001b[0m         \u001b[0mnn_model\u001b[0m \u001b[0;34m=\u001b[0m \u001b[0mNN\u001b[0m\u001b[0;34m(\u001b[0m\u001b[0mhidden_layers\u001b[0m\u001b[0;34m,\u001b[0m \u001b[0mlr_rate\u001b[0m\u001b[0;34m=\u001b[0m\u001b[0;34m'normal'\u001b[0m\u001b[0;34m)\u001b[0m\u001b[0;34m\u001b[0m\u001b[0;34m\u001b[0m\u001b[0m\n\u001b[0;32m---> 11\u001b[0;31m         \u001b[0maccuracy_list\u001b[0m\u001b[0;34m,\u001b[0m \u001b[0merror_list\u001b[0m \u001b[0;34m=\u001b[0m \u001b[0mnn_model\u001b[0m\u001b[0;34m.\u001b[0m\u001b[0mfit\u001b[0m\u001b[0;34m(\u001b[0m\u001b[0mX_train\u001b[0m\u001b[0;34m[\u001b[0m\u001b[0;34m:\u001b[0m\u001b[0;34m]\u001b[0m\u001b[0;34m,\u001b[0m \u001b[0mY_train\u001b[0m\u001b[0;34m[\u001b[0m\u001b[0;34m:\u001b[0m\u001b[0;34m]\u001b[0m\u001b[0;34m,\u001b[0m \u001b[0mlr\u001b[0m\u001b[0;34m=\u001b[0m\u001b[0;36m0.1\u001b[0m\u001b[0;34m,\u001b[0m \u001b[0mmax_epochs\u001b[0m\u001b[0;34m=\u001b[0m\u001b[0;36m10000\u001b[0m\u001b[0;34m,\u001b[0m \u001b[0mstopping_val\u001b[0m\u001b[0;34m=\u001b[0m\u001b[0;36m0.0001\u001b[0m\u001b[0;34m)\u001b[0m\u001b[0;34m\u001b[0m\u001b[0;34m\u001b[0m\u001b[0m\n\u001b[0m\u001b[1;32m     12\u001b[0m         \u001b[0mt2\u001b[0m \u001b[0;34m=\u001b[0m \u001b[0mdatetime\u001b[0m\u001b[0;34m.\u001b[0m\u001b[0mdatetime\u001b[0m\u001b[0;34m.\u001b[0m\u001b[0mnow\u001b[0m\u001b[0;34m(\u001b[0m\u001b[0;34m)\u001b[0m\u001b[0;34m\u001b[0m\u001b[0;34m\u001b[0m\u001b[0m\n\u001b[1;32m     13\u001b[0m         \u001b[0mprint\u001b[0m\u001b[0;34m(\u001b[0m\u001b[0;34m\"Time Taken to train\"\u001b[0m\u001b[0;34m,\u001b[0m\u001b[0mt2\u001b[0m\u001b[0;34m-\u001b[0m\u001b[0mt1\u001b[0m\u001b[0;34m)\u001b[0m\u001b[0;34m\u001b[0m\u001b[0;34m\u001b[0m\u001b[0m\n",
      "\u001b[0;32m/tmp/ipykernel_48700/2578247044.py\u001b[0m in \u001b[0;36mfit\u001b[0;34m(self, X, y, lr, max_epochs, batch_size, stopping_val)\u001b[0m\n\u001b[1;32m    133\u001b[0m                 \u001b[0;31m#Y_b = Y[batch_no*batch_size: (batch_no +1)*batch_size]\u001b[0m\u001b[0;34m\u001b[0m\u001b[0;34m\u001b[0m\u001b[0;34m\u001b[0m\u001b[0m\n\u001b[1;32m    134\u001b[0m \u001b[0;34m\u001b[0m\u001b[0m\n\u001b[0;32m--> 135\u001b[0;31m                 \u001b[0mself\u001b[0m\u001b[0;34m.\u001b[0m\u001b[0mforward_pass\u001b[0m\u001b[0;34m(\u001b[0m\u001b[0mX_b\u001b[0m\u001b[0;34m)\u001b[0m\u001b[0;34m\u001b[0m\u001b[0;34m\u001b[0m\u001b[0m\n\u001b[0m\u001b[1;32m    136\u001b[0m                 \u001b[0mself\u001b[0m\u001b[0;34m.\u001b[0m\u001b[0mback_propagation\u001b[0m\u001b[0;34m(\u001b[0m\u001b[0mY_b\u001b[0m\u001b[0;34m)\u001b[0m\u001b[0;34m\u001b[0m\u001b[0;34m\u001b[0m\u001b[0m\n\u001b[1;32m    137\u001b[0m                 \u001b[0mlr_m\u001b[0m \u001b[0;34m=\u001b[0m \u001b[0mlr\u001b[0m\u001b[0;34m\u001b[0m\u001b[0;34m\u001b[0m\u001b[0m\n",
      "\u001b[0;32m/tmp/ipykernel_48700/2578247044.py\u001b[0m in \u001b[0;36mforward_pass\u001b[0;34m(self, X)\u001b[0m\n\u001b[1;32m     67\u001b[0m         \u001b[0mH\u001b[0m \u001b[0;34m=\u001b[0m \u001b[0;36m1.0\u001b[0m\u001b[0;34m*\u001b[0m\u001b[0mnp\u001b[0m\u001b[0;34m.\u001b[0m\u001b[0mdot\u001b[0m\u001b[0;34m(\u001b[0m\u001b[0mip\u001b[0m\u001b[0;34m,\u001b[0m \u001b[0mW\u001b[0m\u001b[0;34m.\u001b[0m\u001b[0mT\u001b[0m\u001b[0;34m)\u001b[0m \u001b[0;34m+\u001b[0m \u001b[0mb\u001b[0m\u001b[0;34m.\u001b[0m\u001b[0mT\u001b[0m\u001b[0;34m\u001b[0m\u001b[0;34m\u001b[0m\u001b[0m\n\u001b[1;32m     68\u001b[0m         \u001b[0mA\u001b[0m \u001b[0;34m=\u001b[0m \u001b[0mself\u001b[0m\u001b[0;34m.\u001b[0m\u001b[0mactivation\u001b[0m\u001b[0;34m(\u001b[0m\u001b[0mH\u001b[0m\u001b[0;34m,\u001b[0m \u001b[0;34m'sigmoid'\u001b[0m\u001b[0;34m)\u001b[0m \u001b[0;31m#For OP only sigmoid\u001b[0m\u001b[0;34m\u001b[0m\u001b[0;34m\u001b[0m\u001b[0m\n\u001b[0;32m---> 69\u001b[0;31m         \u001b[0mself\u001b[0m\u001b[0;34m.\u001b[0m\u001b[0mlayer_op\u001b[0m\u001b[0;34m[\u001b[0m\u001b[0mself\u001b[0m\u001b[0;34m.\u001b[0m\u001b[0mtotal_layers\u001b[0m\u001b[0;34m-\u001b[0m\u001b[0;36m1\u001b[0m\u001b[0;34m]\u001b[0m \u001b[0;34m=\u001b[0m \u001b[0mA\u001b[0m\u001b[0;34m.\u001b[0m\u001b[0mcopy\u001b[0m\u001b[0;34m(\u001b[0m\u001b[0;34m)\u001b[0m\u001b[0;34m\u001b[0m\u001b[0;34m\u001b[0m\u001b[0m\n\u001b[0m\u001b[1;32m     70\u001b[0m         \u001b[0mself\u001b[0m\u001b[0;34m.\u001b[0m\u001b[0mlayer_ip\u001b[0m\u001b[0;34m[\u001b[0m\u001b[0mself\u001b[0m\u001b[0;34m.\u001b[0m\u001b[0mtotal_layers\u001b[0m\u001b[0;34m-\u001b[0m\u001b[0;36m1\u001b[0m\u001b[0;34m]\u001b[0m \u001b[0;34m=\u001b[0m \u001b[0mip\u001b[0m\u001b[0;34m.\u001b[0m\u001b[0mcopy\u001b[0m\u001b[0;34m(\u001b[0m\u001b[0;34m)\u001b[0m\u001b[0;34m\u001b[0m\u001b[0;34m\u001b[0m\u001b[0m\n\u001b[1;32m     71\u001b[0m         \u001b[0;31m#A = self.softmax(A)\u001b[0m\u001b[0;34m\u001b[0m\u001b[0;34m\u001b[0m\u001b[0;34m\u001b[0m\u001b[0m\n",
      "\u001b[0;31mKeyboardInterrupt\u001b[0m: "
     ]
    }
   ],
   "source": [
    "## Part c\n",
    "# part = 'c'\n",
    "if part == 'c':\n",
    "    hidden_layers_list = [[5],[10],[15], [20], [25]]\n",
    "    train_accs = []\n",
    "    test_accs  = []\n",
    "    for hidden_layers in hidden_layers_list:\n",
    "        print('For hidden layer:-----------------',hidden_layers)\n",
    "        t1 = datetime.datetime.now()\n",
    "        nn_model = NN(hidden_layers, lr_rate='normal')\n",
    "        accuracy_list, error_list = nn_model.fit(X_train[:], Y_train[:], lr=0.1, max_epochs=10000, stopping_val=0.0001)\n",
    "        t2 = datetime.datetime.now()\n",
    "        print(\"Time Taken to train\",t2-t1)\n",
    "        \n",
    "        print('For Train data:')\n",
    "        prediction_train = nn_model.predict(X_train)\n",
    "        train_accs.append(accuracy_score(prediction_train, Y_train))\n",
    "        print('\\tAcuracy:', train_accs[-1])        \n",
    "        print('For Test data:')\n",
    "        prediction_test = nn_model.predict(X_test)\n",
    "        test_accs.append(accuracy_score(prediction_test, Y_test))\n",
    "        print('\\tAcuracy:', test_accs[-1])\n",
    "        nn_model.confusion_matrix(predictions=prediction_test, labels=Y_test, plot_it=True, path='part_c_hl_'+str(hidden_layers[0])+'.png')\n",
    "    fig = plt.figure()\n",
    "    plt.plot(hidden_layers_list, train_accs, '-b', label='train accuracy')\n",
    "    plt.plot(hidden_layers_list, test_accs , '-r', label='test accuracy' )\n",
    "    plt.title(\"Accuracy for different sized hidden layers\")\n",
    "    plt.xlabel(\"Hidden Layer's size\")\n",
    "    plt.ylabel(\"Accuracies\")\n",
    "    plt.legend()\n",
    "    plt.savefig('part_c_Accuracy_diff_sized_hidden_layers.png')\n",
    "    #plt.show()\n"
   ]
  },
  {
   "cell_type": "code",
   "execution_count": 17,
   "id": "4a2ade33-69ee-4c60-80a9-30767160fc41",
   "metadata": {
    "collapsed": true,
    "jupyter": {
     "outputs_hidden": true
    },
    "tags": []
   },
   "outputs": [
    {
     "name": "stdout",
     "output_type": "stream",
     "text": [
      "For hidden layer:----------------- [25]\n",
      "total layers: 2\n",
      " hidden_layers [25]\n",
      " feature_size: 85\n",
      "epoch 0     | error: 1.771591 | acc: 49.952019 \n",
      "epoch 100   | error: 1.421523 | acc: 49.952019 \n"
     ]
    },
    {
     "ename": "KeyboardInterrupt",
     "evalue": "",
     "output_type": "error",
     "traceback": [
      "\u001b[0;31m---------------------------------------------------------------------------\u001b[0m",
      "\u001b[0;31mKeyboardInterrupt\u001b[0m                         Traceback (most recent call last)",
      "\u001b[0;32m/tmp/ipykernel_48700/5920535.py\u001b[0m in \u001b[0;36m<module>\u001b[0;34m\u001b[0m\n\u001b[1;32m      8\u001b[0m         \u001b[0mt1\u001b[0m \u001b[0;34m=\u001b[0m \u001b[0mdatetime\u001b[0m\u001b[0;34m.\u001b[0m\u001b[0mdatetime\u001b[0m\u001b[0;34m.\u001b[0m\u001b[0mnow\u001b[0m\u001b[0;34m(\u001b[0m\u001b[0;34m)\u001b[0m\u001b[0;34m\u001b[0m\u001b[0;34m\u001b[0m\u001b[0m\n\u001b[1;32m      9\u001b[0m         \u001b[0mnn_model\u001b[0m \u001b[0;34m=\u001b[0m \u001b[0mNN\u001b[0m\u001b[0;34m(\u001b[0m\u001b[0mhiddel_layers\u001b[0m\u001b[0;34m,\u001b[0m \u001b[0mlr_rate\u001b[0m\u001b[0;34m=\u001b[0m\u001b[0;34m'adaptive'\u001b[0m\u001b[0;34m)\u001b[0m\u001b[0;34m\u001b[0m\u001b[0;34m\u001b[0m\u001b[0m\n\u001b[0;32m---> 10\u001b[0;31m         \u001b[0maccuracy_list\u001b[0m\u001b[0;34m,\u001b[0m \u001b[0merror_list\u001b[0m \u001b[0;34m=\u001b[0m \u001b[0mnn_model\u001b[0m\u001b[0;34m.\u001b[0m\u001b[0mfit\u001b[0m\u001b[0;34m(\u001b[0m\u001b[0mX_train\u001b[0m\u001b[0;34m[\u001b[0m\u001b[0;34m:\u001b[0m\u001b[0;34m]\u001b[0m\u001b[0;34m,\u001b[0m \u001b[0mY_train\u001b[0m\u001b[0;34m[\u001b[0m\u001b[0;34m:\u001b[0m\u001b[0;34m]\u001b[0m\u001b[0;34m,\u001b[0m \u001b[0mlr\u001b[0m\u001b[0;34m=\u001b[0m\u001b[0;36m0.1\u001b[0m\u001b[0;34m,\u001b[0m \u001b[0mmax_epochs\u001b[0m\u001b[0;34m=\u001b[0m\u001b[0;36m1000\u001b[0m\u001b[0;34m,\u001b[0m \u001b[0mstopping_val\u001b[0m\u001b[0;34m=\u001b[0m\u001b[0;36m0.0000001\u001b[0m\u001b[0;34m)\u001b[0m\u001b[0;34m\u001b[0m\u001b[0;34m\u001b[0m\u001b[0m\n\u001b[0m\u001b[1;32m     11\u001b[0m         \u001b[0mt2\u001b[0m \u001b[0;34m=\u001b[0m \u001b[0mdatetime\u001b[0m\u001b[0;34m.\u001b[0m\u001b[0mdatetime\u001b[0m\u001b[0;34m.\u001b[0m\u001b[0mnow\u001b[0m\u001b[0;34m(\u001b[0m\u001b[0;34m)\u001b[0m\u001b[0;34m\u001b[0m\u001b[0;34m\u001b[0m\u001b[0m\n\u001b[1;32m     12\u001b[0m         \u001b[0mprint\u001b[0m\u001b[0;34m(\u001b[0m\u001b[0;34m\"Time Taken to train\"\u001b[0m\u001b[0;34m,\u001b[0m\u001b[0mt2\u001b[0m\u001b[0;34m-\u001b[0m\u001b[0mt1\u001b[0m\u001b[0;34m)\u001b[0m\u001b[0;34m\u001b[0m\u001b[0;34m\u001b[0m\u001b[0m\n",
      "\u001b[0;32m/tmp/ipykernel_48700/2578247044.py\u001b[0m in \u001b[0;36mfit\u001b[0;34m(self, X, y, lr, max_epochs, batch_size, stopping_val)\u001b[0m\n\u001b[1;32m    141\u001b[0m                     \u001b[0;31m#print('del_i',self.del_i[layer_no].shape)\u001b[0m\u001b[0;34m\u001b[0m\u001b[0;34m\u001b[0m\u001b[0;34m\u001b[0m\u001b[0m\n\u001b[1;32m    142\u001b[0m                     \u001b[0;31m#print('layer_ip',self.layer_ip[layer_no].shape)\u001b[0m\u001b[0;34m\u001b[0m\u001b[0;34m\u001b[0m\u001b[0;34m\u001b[0m\u001b[0m\n\u001b[0;32m--> 143\u001b[0;31m                     \u001b[0mgrad_W\u001b[0m \u001b[0;34m=\u001b[0m \u001b[0mnp\u001b[0m\u001b[0;34m.\u001b[0m\u001b[0mdot\u001b[0m\u001b[0;34m(\u001b[0m\u001b[0mself\u001b[0m\u001b[0;34m.\u001b[0m\u001b[0mdel_i\u001b[0m\u001b[0;34m[\u001b[0m\u001b[0mlayer_no\u001b[0m\u001b[0;34m]\u001b[0m\u001b[0;34m.\u001b[0m\u001b[0mT\u001b[0m\u001b[0;34m,\u001b[0m \u001b[0mself\u001b[0m\u001b[0;34m.\u001b[0m\u001b[0mlayer_ip\u001b[0m\u001b[0;34m[\u001b[0m\u001b[0mlayer_no\u001b[0m\u001b[0;34m]\u001b[0m\u001b[0;34m)\u001b[0m\u001b[0;34m\u001b[0m\u001b[0;34m\u001b[0m\u001b[0m\n\u001b[0m\u001b[1;32m    144\u001b[0m                     \u001b[0mgrad_b\u001b[0m \u001b[0;34m=\u001b[0m \u001b[0mnp\u001b[0m\u001b[0;34m.\u001b[0m\u001b[0msum\u001b[0m\u001b[0;34m(\u001b[0m\u001b[0mself\u001b[0m\u001b[0;34m.\u001b[0m\u001b[0mdel_i\u001b[0m\u001b[0;34m[\u001b[0m\u001b[0mlayer_no\u001b[0m\u001b[0;34m]\u001b[0m\u001b[0;34m,\u001b[0m \u001b[0maxis\u001b[0m \u001b[0;34m=\u001b[0m \u001b[0;36m0\u001b[0m\u001b[0;34m)\u001b[0m\u001b[0;34m.\u001b[0m\u001b[0mT\u001b[0m\u001b[0;34m.\u001b[0m\u001b[0mreshape\u001b[0m\u001b[0;34m(\u001b[0m\u001b[0;34m(\u001b[0m\u001b[0;34m-\u001b[0m\u001b[0;36m1\u001b[0m\u001b[0;34m,\u001b[0m\u001b[0;36m1\u001b[0m\u001b[0;34m)\u001b[0m\u001b[0;34m)\u001b[0m\u001b[0;34m\u001b[0m\u001b[0;34m\u001b[0m\u001b[0m\n\u001b[1;32m    145\u001b[0m                     \u001b[0;31m#print('lr:',lr_m)\u001b[0m\u001b[0;34m\u001b[0m\u001b[0;34m\u001b[0m\u001b[0;34m\u001b[0m\u001b[0m\n",
      "\u001b[0;32m<__array_function__ internals>\u001b[0m in \u001b[0;36mdot\u001b[0;34m(*args, **kwargs)\u001b[0m\n",
      "\u001b[0;31mKeyboardInterrupt\u001b[0m: "
     ]
    }
   ],
   "source": [
    "# part = 'd'\n",
    "if part == 'd':\n",
    "    hidden_layers_list = [[25], [20], [15], [10], [5]]\n",
    "    train_accs = []\n",
    "    test_accs  = []\n",
    "    for hidden_layers in hidden_layers_list:\n",
    "        print('For hidden layer:-----------------',hidden_layers)\n",
    "        t1 = datetime.datetime.now()\n",
    "        nn_model = NN(hidden_layers, lr_rate='adaptive')\n",
    "        accuracy_list, error_list = nn_model.fit(X_train[:], Y_train[:], lr=0.1, max_epochs=1000, stopping_val=0.0000001)\n",
    "        t2 = datetime.datetime.now()\n",
    "        print(\"Time Taken to train\",t2-t1)\n",
    "        \n",
    "        print('For Train data:')\n",
    "        prediction_train = nn_model.predict(X_train)\n",
    "        train_accs.append(accuracy_score(prediction_train, Y_train))\n",
    "        print('\\tAcuracy:', train_accs[-1])        \n",
    "        print('For Test data:')\n",
    "        prediction_test = nn_model.predict(X_test)\n",
    "        test_accs.append(accuracy_score(prediction_test, Y_test))\n",
    "        print('\\tAcuracy:', test_accs[-1])\n",
    "        nn_model.confusion_matrix(predictions=prediction_test, labels=Y_test, plot_it=True, path='part_d_hl_'+str(hidden_layers[0])+'.png')\n",
    "    fig = plt.figure()\n",
    "    plt.plot(hidden_layers_list, train_accs, '-b', label='train accuracy')\n",
    "    plt.plot(hidden_layers_list, test_accs , '-r', label='test accuracy' )\n",
    "    plt.title(\"Adaptive lr Accuracy hidden layers\")\n",
    "    plt.xlabel(\"Hidden Layer's size\")\n",
    "    plt.ylabel(\"Accuracies\")\n",
    "    plt.legend()\n",
    "    plt.savefig('part_d_Adaptive_lr_acc_hidden_layers.png')\n",
    "    #plt.show()"
   ]
  },
  {
   "cell_type": "code",
   "execution_count": 18,
   "id": "c9d4bc42-ff69-4216-a3d6-18e2eda1ef20",
   "metadata": {
    "tags": []
   },
   "outputs": [
    {
     "name": "stdout",
     "output_type": "stream",
     "text": [
      "Part e - Relu\n",
      "Using Adaptive rate\n",
      "total layers: 3\n",
      " hidden_layers [100, 100]\n",
      " feature_size: 85\n",
      "epoch 0     | error: 2.598367 | acc: 46.761295 \n",
      "epoch 100   | error: 2.103101 | acc: 52.115154 \n"
     ]
    },
    {
     "ename": "KeyboardInterrupt",
     "evalue": "",
     "output_type": "error",
     "traceback": [
      "\u001b[0;31m---------------------------------------------------------------------------\u001b[0m",
      "\u001b[0;31mKeyboardInterrupt\u001b[0m                         Traceback (most recent call last)",
      "\u001b[0;32m/tmp/ipykernel_48700/2624141214.py\u001b[0m in \u001b[0;36m<module>\u001b[0;34m\u001b[0m\n\u001b[1;32m      5\u001b[0m     \u001b[0mprint\u001b[0m\u001b[0;34m(\u001b[0m\u001b[0;34m'Using Adaptive rate'\u001b[0m\u001b[0;34m)\u001b[0m\u001b[0;34m\u001b[0m\u001b[0;34m\u001b[0m\u001b[0m\n\u001b[1;32m      6\u001b[0m     \u001b[0mnn_relu_adap\u001b[0m \u001b[0;34m=\u001b[0m \u001b[0mNN\u001b[0m\u001b[0;34m(\u001b[0m\u001b[0;34m[\u001b[0m\u001b[0;36m100\u001b[0m\u001b[0;34m,\u001b[0m \u001b[0;36m100\u001b[0m\u001b[0;34m]\u001b[0m\u001b[0;34m,\u001b[0m \u001b[0mlr_rate\u001b[0m\u001b[0;34m=\u001b[0m\u001b[0;34m'adaptive'\u001b[0m\u001b[0;34m,\u001b[0m \u001b[0mactivation_m\u001b[0m\u001b[0;34m=\u001b[0m\u001b[0;34m'relu'\u001b[0m\u001b[0;34m)\u001b[0m\u001b[0;34m\u001b[0m\u001b[0;34m\u001b[0m\u001b[0m\n\u001b[0;32m----> 7\u001b[0;31m     \u001b[0maccuracy_list\u001b[0m\u001b[0;34m,\u001b[0m \u001b[0merror_list\u001b[0m \u001b[0;34m=\u001b[0m \u001b[0mnn_relu_adap\u001b[0m\u001b[0;34m.\u001b[0m\u001b[0mfit\u001b[0m\u001b[0;34m(\u001b[0m\u001b[0mX_train\u001b[0m\u001b[0;34m[\u001b[0m\u001b[0;34m:\u001b[0m\u001b[0;34m]\u001b[0m\u001b[0;34m,\u001b[0m \u001b[0mY_train\u001b[0m\u001b[0;34m[\u001b[0m\u001b[0;34m:\u001b[0m\u001b[0;34m]\u001b[0m\u001b[0;34m,\u001b[0m \u001b[0mlr\u001b[0m\u001b[0;34m=\u001b[0m\u001b[0;36m0.1\u001b[0m\u001b[0;34m,\u001b[0m \u001b[0mmax_epochs\u001b[0m\u001b[0;34m=\u001b[0m\u001b[0;36m2200\u001b[0m\u001b[0;34m,\u001b[0m \u001b[0mstopping_val\u001b[0m\u001b[0;34m=\u001b[0m\u001b[0;36m0.003\u001b[0m\u001b[0;34m)\u001b[0m\u001b[0;34m\u001b[0m\u001b[0;34m\u001b[0m\u001b[0m\n\u001b[0m\u001b[1;32m      8\u001b[0m \u001b[0;34m\u001b[0m\u001b[0m\n\u001b[1;32m      9\u001b[0m     \u001b[0mprint\u001b[0m\u001b[0;34m(\u001b[0m\u001b[0;34m'For Test data:'\u001b[0m\u001b[0;34m)\u001b[0m\u001b[0;34m\u001b[0m\u001b[0;34m\u001b[0m\u001b[0m\n",
      "\u001b[0;32m/tmp/ipykernel_48700/2578247044.py\u001b[0m in \u001b[0;36mfit\u001b[0;34m(self, X, y, lr, max_epochs, batch_size, stopping_val)\u001b[0m\n\u001b[1;32m    141\u001b[0m                     \u001b[0;31m#print('del_i',self.del_i[layer_no].shape)\u001b[0m\u001b[0;34m\u001b[0m\u001b[0;34m\u001b[0m\u001b[0;34m\u001b[0m\u001b[0m\n\u001b[1;32m    142\u001b[0m                     \u001b[0;31m#print('layer_ip',self.layer_ip[layer_no].shape)\u001b[0m\u001b[0;34m\u001b[0m\u001b[0;34m\u001b[0m\u001b[0;34m\u001b[0m\u001b[0m\n\u001b[0;32m--> 143\u001b[0;31m                     \u001b[0mgrad_W\u001b[0m \u001b[0;34m=\u001b[0m \u001b[0mnp\u001b[0m\u001b[0;34m.\u001b[0m\u001b[0mdot\u001b[0m\u001b[0;34m(\u001b[0m\u001b[0mself\u001b[0m\u001b[0;34m.\u001b[0m\u001b[0mdel_i\u001b[0m\u001b[0;34m[\u001b[0m\u001b[0mlayer_no\u001b[0m\u001b[0;34m]\u001b[0m\u001b[0;34m.\u001b[0m\u001b[0mT\u001b[0m\u001b[0;34m,\u001b[0m \u001b[0mself\u001b[0m\u001b[0;34m.\u001b[0m\u001b[0mlayer_ip\u001b[0m\u001b[0;34m[\u001b[0m\u001b[0mlayer_no\u001b[0m\u001b[0;34m]\u001b[0m\u001b[0;34m)\u001b[0m\u001b[0;34m\u001b[0m\u001b[0;34m\u001b[0m\u001b[0m\n\u001b[0m\u001b[1;32m    144\u001b[0m                     \u001b[0mgrad_b\u001b[0m \u001b[0;34m=\u001b[0m \u001b[0mnp\u001b[0m\u001b[0;34m.\u001b[0m\u001b[0msum\u001b[0m\u001b[0;34m(\u001b[0m\u001b[0mself\u001b[0m\u001b[0;34m.\u001b[0m\u001b[0mdel_i\u001b[0m\u001b[0;34m[\u001b[0m\u001b[0mlayer_no\u001b[0m\u001b[0;34m]\u001b[0m\u001b[0;34m,\u001b[0m \u001b[0maxis\u001b[0m \u001b[0;34m=\u001b[0m \u001b[0;36m0\u001b[0m\u001b[0;34m)\u001b[0m\u001b[0;34m.\u001b[0m\u001b[0mT\u001b[0m\u001b[0;34m.\u001b[0m\u001b[0mreshape\u001b[0m\u001b[0;34m(\u001b[0m\u001b[0;34m(\u001b[0m\u001b[0;34m-\u001b[0m\u001b[0;36m1\u001b[0m\u001b[0;34m,\u001b[0m\u001b[0;36m1\u001b[0m\u001b[0;34m)\u001b[0m\u001b[0;34m)\u001b[0m\u001b[0;34m\u001b[0m\u001b[0;34m\u001b[0m\u001b[0m\n\u001b[1;32m    145\u001b[0m                     \u001b[0;31m#print('lr:',lr_m)\u001b[0m\u001b[0;34m\u001b[0m\u001b[0;34m\u001b[0m\u001b[0;34m\u001b[0m\u001b[0m\n",
      "\u001b[0;32m<__array_function__ internals>\u001b[0m in \u001b[0;36mdot\u001b[0;34m(*args, **kwargs)\u001b[0m\n",
      "\u001b[0;31mKeyboardInterrupt\u001b[0m: "
     ]
    }
   ],
   "source": [
    "##Part e\n",
    "part = 'e'\n",
    "if part == 'e':\n",
    "    print('Part e - Relu')\n",
    "    print('Using Adaptive rate')\n",
    "    nn_relu_adap = NN([100, 100], lr_rate='adaptive', activation_m='relu')\n",
    "    accuracy_list, error_list = nn_relu_adap.fit(X_train[:], Y_train[:], lr=0.1, max_epochs=2200, stopping_val=0.003)\n",
    "    \n",
    "    print('For Test data:')\n",
    "    prediction_test = nn_relu_adap.predict(X_test)\n",
    "    print('Acuracy:', accuracy_score(prediction_test, Y_test))\n",
    "    nn_model.confusion_matrix(predictions=prediction_test, labels=Y_test, plot_it=True, path= 'part_e_relu_adap.png')\n",
    "    \n",
    "    print('\\nUsing Constant learning rate')\n",
    "    nn_relu_const = NN([100, 100], lr_rate='normal', activation_m='relu')\n",
    "    accuracy_list, error_list = nn_relu_const.fit(X_train[:], Y_train[:], lr=0.1, max_epochs=800, stopping_val=0.003)\n",
    "    \n",
    "    print('For Test data:')\n",
    "    prediction_test = nn_relu_const.predict(X_test)\n",
    "    print('Acuracy:', accuracy_score(prediction_test, Y_test))\n",
    "    nn_model.confusion_matrix(predictions=prediction_test, labels=Y_test, plot_it=True, path= 'part_e_relu_const.png')"
   ]
  },
  {
   "cell_type": "code",
   "execution_count": 507,
   "id": "5e00fe9c-4c48-4467-b089-46a308ab00e9",
   "metadata": {
    "collapsed": true,
    "jupyter": {
     "outputs_hidden": true
    },
    "tags": []
   },
   "outputs": [
    {
     "data": {
      "text/html": [
       "<div>\n",
       "<style scoped>\n",
       "    .dataframe tbody tr th:only-of-type {\n",
       "        vertical-align: middle;\n",
       "    }\n",
       "\n",
       "    .dataframe tbody tr th {\n",
       "        vertical-align: top;\n",
       "    }\n",
       "\n",
       "    .dataframe thead th {\n",
       "        text-align: right;\n",
       "    }\n",
       "</style>\n",
       "<table border=\"1\" class=\"dataframe\">\n",
       "  <thead>\n",
       "    <tr style=\"text-align: right;\">\n",
       "      <th></th>\n",
       "      <th>0</th>\n",
       "    </tr>\n",
       "  </thead>\n",
       "  <tbody>\n",
       "    <tr>\n",
       "      <th>count</th>\n",
       "      <td>25010.000000</td>\n",
       "    </tr>\n",
       "    <tr>\n",
       "      <th>mean</th>\n",
       "      <td>0.621152</td>\n",
       "    </tr>\n",
       "    <tr>\n",
       "      <th>std</th>\n",
       "      <td>0.788361</td>\n",
       "    </tr>\n",
       "    <tr>\n",
       "      <th>min</th>\n",
       "      <td>0.000000</td>\n",
       "    </tr>\n",
       "    <tr>\n",
       "      <th>25%</th>\n",
       "      <td>0.000000</td>\n",
       "    </tr>\n",
       "    <tr>\n",
       "      <th>50%</th>\n",
       "      <td>1.000000</td>\n",
       "    </tr>\n",
       "    <tr>\n",
       "      <th>75%</th>\n",
       "      <td>1.000000</td>\n",
       "    </tr>\n",
       "    <tr>\n",
       "      <th>max</th>\n",
       "      <td>9.000000</td>\n",
       "    </tr>\n",
       "  </tbody>\n",
       "</table>\n",
       "</div>"
      ],
      "text/plain": [
       "                  0\n",
       "count  25010.000000\n",
       "mean       0.621152\n",
       "std        0.788361\n",
       "min        0.000000\n",
       "25%        0.000000\n",
       "50%        1.000000\n",
       "75%        1.000000\n",
       "max        9.000000"
      ]
     },
     "execution_count": 507,
     "metadata": {},
     "output_type": "execute_result"
    }
   ],
   "source": [
    "# y_df.describe()\n",
    "# y_df.value_counts()"
   ]
  },
  {
   "cell_type": "code",
   "execution_count": null,
   "id": "085b2390-63d3-4434-a32b-0df635dd5e1b",
   "metadata": {},
   "outputs": [],
   "source": [
    "# pred = nn_model.forward_pass(X_train[:200])\n",
    "# pred = np.argmax(pred, axis=1)\n",
    "# ohe_pred = ohe_y.transform(pred.reshape(-1,1)).toarray()\n",
    "# print('ohe pred', ohe_pred.shape)\n",
    "# print('ohe y', Y_train_ohe[:200].shape)\n",
    "# acc1 = accuracy_score(ohe_pred, Y_train_ohe[:200])\n",
    "# acc2 = accuracy_score(pred, Y_train[:200])\n",
    "# print(acc1, acc2)"
   ]
  }
 ],
 "metadata": {
  "kernelspec": {
   "display_name": "Python 3 (ipykernel)",
   "language": "python",
   "name": "python3"
  },
  "language_info": {
   "codemirror_mode": {
    "name": "ipython",
    "version": 3
   },
   "file_extension": ".py",
   "mimetype": "text/x-python",
   "name": "python",
   "nbconvert_exporter": "python",
   "pygments_lexer": "ipython3",
   "version": "3.8.8"
  }
 },
 "nbformat": 4,
 "nbformat_minor": 5
}
